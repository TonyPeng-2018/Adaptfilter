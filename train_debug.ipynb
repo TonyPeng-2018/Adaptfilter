{
 "cells": [
  {
   "cell_type": "code",
   "execution_count": 14,
   "metadata": {},
   "outputs": [
    {
     "name": "stdout",
     "output_type": "stream",
     "text": [
      "Files already downloaded and verified\n",
      "Files already downloaded and verified\n",
      "tensor([7, 7, 7, 3, 2, 3, 1, 7, 6, 4, 5, 6, 2, 9, 4, 3, 3, 5, 0, 6, 8, 2, 2, 6,\n",
      "        5, 4, 3, 9, 8, 9, 2, 8, 2, 9, 4, 5, 3, 4, 5, 8, 8, 0, 7, 9, 1, 1, 3, 9,\n",
      "        1, 8, 7, 5, 0, 7, 7, 6, 4, 1, 5, 7, 3, 8, 4, 8, 1, 5, 5, 1, 6, 1, 8, 0,\n",
      "        1, 0, 9, 6, 6, 9, 7, 9, 5, 2, 6, 4, 9, 2, 6, 0, 0, 3, 4, 1, 7, 7, 3, 3,\n",
      "        9, 0, 1, 7, 4, 8, 9, 3, 0, 4, 8, 2, 0, 1, 1, 5, 4, 2, 6, 0, 4, 9, 9, 6,\n",
      "        8, 1, 3, 2, 1, 7, 8, 7], device='cuda:0')\n",
      "tensor([7, 7, 7, 3, 2, 3, 1, 7, 6, 4, 5, 6, 2, 9, 4, 3, 3, 5, 0, 6, 8, 2, 2, 6,\n",
      "        5, 4, 3, 9, 8, 9, 2, 8, 2, 9, 4, 5, 3, 4, 5, 8, 8, 0, 7, 9, 1, 1, 3, 9,\n",
      "        1, 8, 7, 5, 0, 7, 7, 6, 4, 1, 5, 7, 3, 8, 4, 8, 1, 5, 5, 1, 6, 1, 8, 0,\n",
      "        1, 0, 9, 6, 6, 9, 7, 9, 5, 2, 6, 4, 9, 2, 6, 0, 0, 3, 4, 1, 7, 7, 3, 3,\n",
      "        9, 0, 1, 7, 4, 8, 9, 3, 0, 4, 8, 2, 0, 1, 1, 5, 4, 2, 6, 0, 4, 9, 9, 6,\n",
      "        8, 1, 3, 2, 1, 7, 8, 7], device='cuda:0')\n",
      "tensor([7, 7, 7, 5, 2, 3, 1, 7, 6, 4, 5, 6, 2, 9, 4, 3, 3, 5, 0, 6, 8, 2, 2, 6,\n",
      "        5, 4, 3, 9, 8, 9, 2, 8, 2, 9, 4, 5, 3, 4, 5, 8, 8, 0, 7, 9, 1, 1, 3, 9,\n",
      "        1, 8, 7, 5, 0, 7, 7, 6, 4, 1, 5, 7, 3, 8, 4, 8, 1, 5, 5, 1, 6, 1, 8, 0,\n",
      "        1, 0, 9, 6, 6, 9, 7, 9, 5, 2, 6, 4, 9, 2, 6, 0, 0, 3, 4, 1, 7, 7, 3, 3,\n",
      "        9, 0, 1, 7, 4, 8, 9, 3, 0, 4, 8, 2, 0, 1, 1, 5, 4, 2, 6, 0, 4, 9, 9, 6,\n",
      "        8, 1, 3, 2, 1, 7, 8, 7], device='cuda:0')\n",
      "tensor([0, 0, 0, 2, 0, 0, 0, 0, 0, 0, 0, 0, 0, 0, 0, 0, 0, 0, 0, 0, 0, 0, 0, 0,\n",
      "        0, 0, 0, 0, 0, 0, 0, 0, 0, 0, 0, 0, 0, 0, 0, 0, 0, 0, 0, 0, 0, 0, 0, 0,\n",
      "        0, 0, 0, 0, 0, 0, 0, 0, 0, 0, 0, 0, 0, 0, 0, 0, 0, 0, 0, 0, 0, 0, 0, 0,\n",
      "        0, 0, 0, 0, 0, 0, 0, 0, 0, 0, 0, 0, 0, 0, 0, 0, 0, 0, 0, 0, 0, 0, 0, 0,\n",
      "        0, 0, 0, 0, 0, 0, 0, 0, 0, 0, 0, 0, 0, 0, 0, 0, 0, 0, 0, 0, 0, 0, 0, 0,\n",
      "        0, 0, 0, 0, 0, 0, 0, 0], device='cuda:0')\n"
     ]
    }
   ],
   "source": [
    "# use the model in Model, and dataloader in Dataloaders\n",
    "# to train the model\n",
    "import torch\n",
    "import torch.nn as nn\n",
    "import torch.optim as optim\n",
    "from torch.utils.data import DataLoader\n",
    "from Models import mobilenetv2\n",
    "from Dataloaders import dataloader_cifar10\n",
    "import os\n",
    "import numpy as np\n",
    "import matplotlib.pyplot as plt\n",
    "\n",
    "# get the dataset\n",
    "train, test, labels = dataloader_cifar10.Dataloader_cifar10(train_batch=128, test_batch=100, seed=2024)\n",
    "\n",
    "# 2. transfer the dataset to fit the model, for the training, client and server model are all on the server\n",
    "client_model, server_model = mobilenetv2.stupid_model_splitter(weight_path='/home/tonypeng/Workspace1/adaptfilter/Adaptfilter/otherwork/pytorchcifar/checkpoint/MobileNetV2.pth')\n",
    "net = mobilenetv2.MobileNetV2()\n",
    "net.load_state_dict(torch.load('/home/tonypeng/Workspace1/adaptfilter/Adaptfilter/otherwork/pytorchcifar/checkpoint/MobileNetV2.pth')['net'])\n",
    "\n",
    "# gating = some_gating_function()\n",
    "\n",
    "# reducer = some_reducer_funtion()\n",
    "\n",
    "# generator = some_generator_funtion()\n",
    "\n",
    "client_model = client_model.cuda()\n",
    "server_model = server_model.cuda()\n",
    "net = net.cuda()\n",
    "\n",
    "# test the model\n",
    "client_model.eval()\n",
    "server_model.eval()\n",
    "net.eval()\n",
    "\n",
    "with torch.no_grad():\n",
    "    for i, (data, target) in enumerate(train):\n",
    "        data, target = data.cuda(), target.cuda()\n",
    "        output = client_model(data)\n",
    "        output = server_model(output)\n",
    "        output2 = net(data)\n",
    "        # get the argmax\n",
    "        _, predicted = output.max(1)\n",
    "        _, predicted2 = output2.max(1)\n",
    "        print(predicted)\n",
    "        print(predicted2)\n",
    "        print(target)   \n",
    "        print(target - predicted2)\n",
    "        break\n"
   ]
  }
 ],
 "metadata": {
  "kernelspec": {
   "display_name": "iot",
   "language": "python",
   "name": "python3"
  },
  "language_info": {
   "codemirror_mode": {
    "name": "ipython",
    "version": 3
   },
   "file_extension": ".py",
   "mimetype": "text/x-python",
   "name": "python",
   "nbconvert_exporter": "python",
   "pygments_lexer": "ipython3",
   "version": "3.12.3"
  }
 },
 "nbformat": 4,
 "nbformat_minor": 2
}
