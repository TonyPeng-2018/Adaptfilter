{
 "cells": [
  {
   "cell_type": "code",
   "execution_count": 48,
   "metadata": {},
   "outputs": [],
   "source": [
    "vidrone_root = '/home/tonypeng/Workspace1/adaptfilter/data/visdrone/'\n",
    "train_path = vidrone_root + 'VisDrone2019-DET-train/'\n",
    "\n",
    "import os \n",
    "# if folders do not exist\n",
    "if not os.path.exists(vidrone_root+'train/'):\n",
    "    os.makedirs(vidrone_root+'train/')\n",
    "\n",
    "# read files in the annotations\n",
    "train_annos = os.listdir(train_path+'annotations/')\n",
    "train_images = os.listdir(train_path+'images/')\n",
    "train_annos.sort()\n",
    "train_images.sort()\n",
    "\n",
    "import matplotlib.pyplot as plt\n",
    "image_id = 0\n",
    "f_label = open(vidrone_root+'train/'+'labels'+'.txt', 'w')\n",
    "import cv2\n",
    "categories = {}\n",
    "for i in range (10):\n",
    "    categories[i] = 0\n",
    "\n",
    "# categories have at least 237 images, store 237 images for each category\n",
    "# resize it to 32*32\n",
    "exit_flag = False\n",
    "for i in range(len(train_images)):\n",
    "    f = open(train_path+'annotations/'+train_annos[i], 'r')\n",
    "    lines = f.readlines()\n",
    "    for j in range(len(lines)):\n",
    "        top_left_x, top_left_y, w, h, conf, category, truncat, occlusion = lines[j].strip().split(',')\n",
    "        if conf != '1' or truncat != '0' or occlusion != '0':\n",
    "            continue\n",
    "        category = int(category)-1\n",
    "        if categories[category] >= 1307:\n",
    "            continue\n",
    "        top_left_x, top_left_y, w, h = int(top_left_x), int(top_left_y), int(w), int(h)\n",
    "        img = plt.imread(train_path+'images/'+train_images[i])\n",
    "        img = img[top_left_y:top_left_y+h, top_left_x:top_left_x+w, :]\n",
    "        img_name = str(image_id)+'.jpg'\n",
    "        image_id += 1\n",
    "        categories[category] += 1\n",
    "\n",
    "        # write the name and label to the file\n",
    "        f_label.write(img_name+','+str(category)+'\\n')\n",
    "        # store \n",
    "        # resize the image to 32*32\n",
    "        img = cv2.resize(img, (32, 32))\n",
    "        cv2.imwrite(vidrone_root+'train/images/img'+img_name, img)"
   ]
  },
  {
   "cell_type": "code",
   "execution_count": 46,
   "metadata": {},
   "outputs": [],
   "source": [
    "vidrone_root = '/home/tonypeng/Workspace1/adaptfilter/data/visdrone/'\n",
    "test_path = vidrone_root + 'VisDrone2019-DET-test/'\n",
    "\n",
    "import os \n",
    "if not os.path.exists(vidrone_root+'test/'):\n",
    "    os.makedirs(vidrone_root+'test/')\n",
    "\n",
    "# read files in the annotations\n",
    "test_annos = os.listdir(test_path+'annotations/')\n",
    "test_images = os.listdir(test_path+'images/')\n",
    "test_annos.sort()\n",
    "test_images.sort()\n",
    "\n",
    "import matplotlib.pyplot as plt\n",
    "image_id = 0\n",
    "f_label = open(vidrone_root+'test/'+'labels'+'.txt', 'w')\n",
    "import cv2\n",
    "categories = {}\n",
    "for i in range (10):\n",
    "    categories[i] = 0\n",
    "\n",
    "# categories have at least 237 images, store 237 images for each category\n",
    "# resize it to 32*32\n",
    "exit_flag = False\n",
    "for i in range(len(test_images)):\n",
    "    f = open(test_path+'annotations/'+test_annos[i], 'r')\n",
    "    lines = f.readlines()\n",
    "    for j in range(len(lines)):\n",
    "        top_left_x, top_left_y, w, h, conf, category, truncat, occlusion = lines[j].strip().split(',')\n",
    "        if conf != '1' or truncat != '0' or occlusion != '0':\n",
    "            continue\n",
    "        category = int(category)-1\n",
    "        if categories[category] >= 237:\n",
    "            continue\n",
    "        top_left_x, top_left_y, w, h = int(top_left_x), int(top_left_y), int(w), int(h)\n",
    "        img = plt.imread(test_path+'images/'+test_images[i])\n",
    "        img = img[top_left_y:top_left_y+h, top_left_x:top_left_x+w, :]\n",
    "        img_name = str(image_id)+'.jpg'\n",
    "        image_id += 1\n",
    "        categories[category] += 1\n",
    "\n",
    "        # write the name and label to the file\n",
    "        f_label.write(img_name+','+str(category)+'\\n')\n",
    "        # store \n",
    "        # resize the image to 32*32\n",
    "        img = cv2.resize(img, (32, 32))\n",
    "        cv2.imwrite(vidrone_root+'test/images/img'+img_name, img)"
   ]
  },
  {
   "cell_type": "code",
   "execution_count": 47,
   "metadata": {},
   "outputs": [],
   "source": [
    "vidrone_root = '/home/tonypeng/Workspace1/adaptfilter/data/visdrone/'\n",
    "val_path = vidrone_root + 'VisDrone2019-DET-val/'\n",
    "\n",
    "import os \n",
    "if not os.path.exists(vidrone_root+'val/'):\n",
    "    os.makedirs(vidrone_root+'val/')\n",
    "\n",
    "# read files in the annotations\n",
    "val_annos = os.listdir(val_path+'annotations/')\n",
    "val_images = os.listdir(val_path+'images/')\n",
    "val_annos.sort()\n",
    "val_images.sort()\n",
    "\n",
    "import matplotlib.pyplot as plt\n",
    "image_id = 0\n",
    "f_label = open(vidrone_root+'val/'+'labels'+'.txt', 'w')\n",
    "import cv2\n",
    "categories = {}\n",
    "for i in range (10):\n",
    "    categories[i] = 0\n",
    "\n",
    "# categories have at least 237 images, store 237 images for each category\n",
    "# resize it to 32*32\n",
    "exit_flag = False\n",
    "for i in range(len(val_images)):\n",
    "    f = open(val_path+'annotations/'+val_annos[i], 'r')\n",
    "    lines = f.readlines()\n",
    "    for j in range(len(lines)):\n",
    "        top_left_x, top_left_y, w, h, conf, category, truncat, occlusion = lines[j].strip().split(',')\n",
    "        if conf != '1' or truncat != '0' or occlusion != '0':\n",
    "            continue\n",
    "        category = int(category)-1\n",
    "        if categories[category] >= 111:\n",
    "            continue\n",
    "        top_left_x, top_left_y, w, h = int(top_left_x), int(top_left_y), int(w), int(h)\n",
    "        img = plt.imread(val_path+'images/'+val_images[i])\n",
    "        img = img[top_left_y:top_left_y+h, top_left_x:top_left_x+w, :]\n",
    "        img_name = str(image_id)+'.jpg'\n",
    "        image_id += 1\n",
    "        categories[category] += 1\n",
    "\n",
    "        # write the name and label to the file\n",
    "        f_label.write(img_name+','+str(category)+'\\n')\n",
    "        # store \n",
    "        # resize the image to 32*32\n",
    "        img = cv2.resize(img, (32, 32))\n",
    "        cv2.imwrite(vidrone_root+'val/images/img'+img_name, img)"
   ]
  },
  {
   "cell_type": "code",
   "execution_count": 37,
   "metadata": {},
   "outputs": [
    {
     "name": "stderr",
     "output_type": "stream",
     "text": [
      "100%|██████████| 6471/6471 [00:02<00:00, 2502.23it/s]\n"
     ]
    },
    {
     "name": "stdout",
     "output_type": "stream",
     "text": [
      "5\n",
      "4     51997\n",
      "1     17138\n",
      "5      9271\n",
      "10     5617\n",
      "6      5033\n",
      "2      2788\n",
      "9      2353\n",
      "3      1899\n",
      "7      1268\n",
      "8      1013\n",
      "Name: count, dtype: int64\n"
     ]
    }
   ],
   "source": [
    "train_anno = os.listdir(train_path+'annotations/')\n",
    "import pandas as pd\n",
    "import numpy as np\n",
    "from tqdm import tqdm\n",
    "dataset = []\n",
    "# add all anno to pd\n",
    "for i in tqdm(range(len(train_anno))):\n",
    "    dataset.append(pd.read_csv(train_path+'annotations/'+train_anno[i], header=None))\n",
    "ds = pd.concat(dataset)\n",
    "\n",
    "# check categoris \n",
    "# print when [5] == 3\n",
    "# show the number of item with each [5] column\n",
    "ds = ds[ds[4] == 1]\n",
    "ds = ds[ds[6] == 0]\n",
    "ds = ds[ds[7] == 0]\n",
    "ds = ds[ds[2] >= 16]\n",
    "ds = ds[ds[3] >= 16]\n",
    "print(ds[5].value_counts())"
   ]
  },
  {
   "cell_type": "code",
   "execution_count": 43,
   "metadata": {},
   "outputs": [
    {
     "name": "stderr",
     "output_type": "stream",
     "text": [
      "100%|██████████| 1610/1610 [00:00<00:00, 2355.16it/s]"
     ]
    },
    {
     "name": "stdout",
     "output_type": "stream",
     "text": [
      "5\n",
      "4     16385\n",
      "1     13419\n",
      "5      3159\n",
      "2      2334\n",
      "10     1638\n",
      "9      1277\n",
      "6      1065\n",
      "3       428\n",
      "8       266\n",
      "7       237\n",
      "Name: count, dtype: int64\n"
     ]
    },
    {
     "name": "stderr",
     "output_type": "stream",
     "text": [
      "\n"
     ]
    }
   ],
   "source": [
    "test_anno = os.listdir(test_path+'annotations/')\n",
    "import pandas as pd\n",
    "import numpy as np\n",
    "from tqdm import tqdm\n",
    "dataset = []\n",
    "# add all anno to pd\n",
    "for i in tqdm(range(len(test_anno))):\n",
    "    dataset.append(pd.read_csv(test_path+'annotations/'+test_anno[i], header=None))\n",
    "ds = pd.concat(dataset)\n",
    "\n",
    "# check categoris \n",
    "# print when [5] == 3\n",
    "# show the number of item with each [5] column and some other conditions\n",
    "ds = ds[ds[4] == 1]\n",
    "ds = ds[ds[6] == 0]\n",
    "ds = ds[ds[7] == 0]\n",
    "print(ds[5].value_counts())"
   ]
  },
  {
   "cell_type": "code",
   "execution_count": 39,
   "metadata": {},
   "outputs": [
    {
     "name": "stderr",
     "output_type": "stream",
     "text": [
      "100%|██████████| 548/548 [00:00<00:00, 2573.42it/s]"
     ]
    },
    {
     "name": "stdout",
     "output_type": "stream",
     "text": [
      "5\n",
      "4     4813\n",
      "1     1426\n",
      "10     792\n",
      "2      568\n",
      "5      559\n",
      "7      282\n",
      "6      216\n",
      "3      190\n",
      "8      157\n",
      "9       82\n",
      "Name: count, dtype: int64\n"
     ]
    },
    {
     "name": "stderr",
     "output_type": "stream",
     "text": [
      "\n"
     ]
    }
   ],
   "source": [
    "val_anno = os.listdir(val_path+'annotations/')\n",
    "import pandas as pd\n",
    "import numpy as np\n",
    "from tqdm import tqdm\n",
    "dataset = []\n",
    "# add all anno to pd\n",
    "for i in tqdm(range(len(val_anno))):\n",
    "    dataset.append(pd.read_csv(val_path+'annotations/'+val_anno[i], header=None))\n",
    "ds = pd.concat(dataset)\n",
    "\n",
    "# check categoris \n",
    "# print when [5] == 3\n",
    "# show the number of item with each [5] column\n",
    "ds = ds[ds[4] == 1]\n",
    "ds = ds[ds[6] == 0]\n",
    "ds = ds[ds[7] == 0]\n",
    "ds = ds[ds[2] >= 16]\n",
    "ds = ds[ds[3] >= 16]\n",
    "print(ds[5].value_counts())"
   ]
  }
 ],
 "metadata": {
  "kernelspec": {
   "display_name": "iot",
   "language": "python",
   "name": "python3"
  },
  "language_info": {
   "codemirror_mode": {
    "name": "ipython",
    "version": 3
   },
   "file_extension": ".py",
   "mimetype": "text/x-python",
   "name": "python",
   "nbconvert_exporter": "python",
   "pygments_lexer": "ipython3",
   "version": "3.12.3"
  }
 },
 "nbformat": 4,
 "nbformat_minor": 2
}
