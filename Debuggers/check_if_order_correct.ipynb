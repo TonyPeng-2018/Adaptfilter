{
 "cells": [
  {
   "cell_type": "code",
   "execution_count": 13,
   "metadata": {},
   "outputs": [
    {
     "name": "stdout",
     "output_type": "stream",
     "text": [
      "torch.Size([128, 10])\n",
      "torch.Size([128, 10])\n"
     ]
    }
   ],
   "source": [
    "# load a data from data\n",
    "import torch\n",
    "from Models import mobilenetv2\n",
    "\n",
    "train = torch.load('../data/cifar10/cifar-10-embedding-client/0.pth')\n",
    "result = torch.load('../data/cifar10/cifar-10-embedding-server/0.pth')\n",
    "client, server =mobilenetv2.stupid_model_splitter(weight_path = '/home/tonypeng/Workspace1/adaptfilter/Adaptfilter/Weights/cifar-10/model/MobileNetV2.pth')\n",
    "print(server(train).size())\n",
    "print(result.size())\n",
    "\n",
    "# they are not the same"
   ]
  }
 ],
 "metadata": {
  "kernelspec": {
   "display_name": "iot",
   "language": "python",
   "name": "python3"
  },
  "language_info": {
   "codemirror_mode": {
    "name": "ipython",
    "version": 3
   },
   "file_extension": ".py",
   "mimetype": "text/x-python",
   "name": "python",
   "nbconvert_exporter": "python",
   "pygments_lexer": "ipython3",
   "version": "3.12.3"
  }
 },
 "nbformat": 4,
 "nbformat_minor": 2
}
