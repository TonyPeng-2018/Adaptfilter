{
 "cells": [
  {
   "cell_type": "code",
   "execution_count": 7,
   "metadata": {},
   "outputs": [
    {
     "ename": "NameError",
     "evalue": "name 'Image' is not defined",
     "output_type": "error",
     "traceback": [
      "\u001b[0;31m---------------------------------------------------------------------------\u001b[0m",
      "\u001b[0;31mNameError\u001b[0m                                 Traceback (most recent call last)",
      "Cell \u001b[0;32mIn[7], line 27\u001b[0m\n\u001b[1;32m     25\u001b[0m \u001b[38;5;28;01mfor\u001b[39;00m ind, ip \u001b[38;5;129;01min\u001b[39;00m \u001b[38;5;28menumerate\u001b[39m(imgpath):\n\u001b[1;32m     26\u001b[0m     \u001b[38;5;28;01mfor\u001b[39;00m ind2, cr \u001b[38;5;129;01min\u001b[39;00m \u001b[38;5;28menumerate\u001b[39m(compress_ratio):\n\u001b[0;32m---> 27\u001b[0m         img \u001b[38;5;241m=\u001b[39m \u001b[43mImage\u001b[49m\u001b[38;5;241m.\u001b[39mopen(ip)\n\u001b[1;32m     28\u001b[0m         time1 \u001b[38;5;241m=\u001b[39m time\u001b[38;5;241m.\u001b[39mtime()\n\u001b[1;32m     29\u001b[0m         qtable \u001b[38;5;241m=\u001b[39m main_no_store(img)\n",
      "\u001b[0;31mNameError\u001b[0m: name 'Image' is not defined"
     ]
    }
   ],
   "source": [
    "# Here we need to plot a latency vs accuracy\n",
    "\n",
    "\n",
    "from Dataloaders import dataloader_cifar10, dataloader_imagenet\n",
    "from datetime import datetime\n",
    "from DeepN import main_no_store\n",
    "from PIL import Image\n",
    "import seaborn as sns\n",
    "import subprocess \n",
    "import time\n",
    "\n",
    "from Utils import utils\n",
    "\n",
    "# load 100 image\n",
    "imgpath_root = '../data/cifar-10-client/'\n",
    "imgpath = [imgpath_root + 'img' + str(i) + '.bmp' for i in range(100)]\n",
    "out_imgpath = [imgpath_root + 'img' + str(i) for i in range(100)]\n",
    "compress_ratio = [x for x in range(5, 100, 5)]\n",
    "stime = datetime.now().strftime('%m-%d %H:%M')\n",
    "logger = utils.APLogger(path='./Logs/cifar-10/baseline_plot_accuracy_vs_latency_' + stime + '.log')\n",
    "logger.write('plot accuracy vs latency for cifar-10 dataset\\n')\n",
    "\n",
    "latency = []\n",
    "accuracy = []\n",
    "\n",
    "for ind, ip in enumerate(imgpath):\n",
    "    for ind2, cr in enumerate(compress_ratio):\n",
    "        img = Image.open(ip)\n",
    "        time1 = time.time()\n",
    "        qtable = main_no_store(img)\n",
    "        time2 = time.time()\n",
    "        # store qtable\n",
    "        with open('qt.txt', 'w') as f:\n",
    "            f.write(str(qtable) + '\\n')\n",
    "        command = 'cjpeg -dct int -qtable qt.txt -baseline -opt -outfile out_file temp.bmp -quality q_val'\n",
    "        command.replace('temp.bmp', str(ip))\n",
    "        command.replace('out_file', str(out_imgpath[ind])+str(cr)+'.jpg')\n",
    "        command.replace('q_val', str(cr))\n",
    "        command = command.split(' ')\n",
    "        time3 = time.time()\n",
    "        subprocess.run(command)\n",
    "        time4 = time.time()\n",
    "        logger.write('time to compress image: ' + str(time4 - time3 + time2 - time1) + '\\n')\n",
    "        \n",
    "        \n",
    "    \n",
    "\n"
   ]
  }
 ],
 "metadata": {
  "kernelspec": {
   "display_name": "iot",
   "language": "python",
   "name": "python3"
  },
  "language_info": {
   "codemirror_mode": {
    "name": "ipython",
    "version": 3
   },
   "file_extension": ".py",
   "mimetype": "text/x-python",
   "name": "python",
   "nbconvert_exporter": "python",
   "pygments_lexer": "ipython3",
   "version": "3.12.3"
  }
 },
 "nbformat": 4,
 "nbformat_minor": 2
}
