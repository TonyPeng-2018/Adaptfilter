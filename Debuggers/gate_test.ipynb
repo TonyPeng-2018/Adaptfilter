{
 "cells": [
  {
   "cell_type": "code",
   "execution_count": 7,
   "metadata": {},
   "outputs": [
    {
     "data": {
      "text/plain": [
       "'2024-06-11-21-48-49'"
      ]
     },
     "execution_count": 7,
     "metadata": {},
     "output_type": "execute_result"
    }
   ],
   "source": [
    "import time\n",
    "import datetime\n",
    "datetime.datetime.now().strftime('%Y-%m-%d-%H-%M-%S')"
   ]
  },
  {
   "cell_type": "code",
   "execution_count": 3,
   "metadata": {},
   "outputs": [
    {
     "data": {
      "text/plain": [
       "['GateCNN2_2_2024_06_11_21_57_41.pth',\n",
       " 'GateCNN2_1.pth',\n",
       " 'GatedRegression_1.pth',\n",
       " 'GateCNN_0.pth',\n",
       " 'GatedRegression_w.zip',\n",
       " 'GateCNN2_2.pth',\n",
       " 'GateCNN_2.pth',\n",
       " 'GateCNN2_1_2024_06_11_21_57_41.pth',\n",
       " 'GatedRegression_0.pth',\n",
       " 'GatedRegression_2.pth',\n",
       " 'GateCNN_0_2024_06_11_22_02_59.pth',\n",
       " 'GateCNN_1_2024_06_11_22_02_59.pth',\n",
       " 'GateCNN2_0_2024_06_11_21_57_41.pth',\n",
       " 'GateCNN2_0.pth',\n",
       " 'GateCNN_1.pth',\n",
       " 'GateCNN_2_2024_06_11_22_02_59.pth']"
      ]
     },
     "execution_count": 3,
     "metadata": {},
     "output_type": "execute_result"
    }
   ],
   "source": [
    "import os\n",
    "s_time = os.listdir('./Weights/cifar-10/gate/')\n",
    "s_time"
   ]
  }
 ],
 "metadata": {
  "kernelspec": {
   "display_name": "iot",
   "language": "python",
   "name": "python3"
  },
  "language_info": {
   "codemirror_mode": {
    "name": "ipython",
    "version": 3
   },
   "file_extension": ".py",
   "mimetype": "text/x-python",
   "name": "python",
   "nbconvert_exporter": "python",
   "pygments_lexer": "ipython3",
   "version": "3.12.3"
  }
 },
 "nbformat": 4,
 "nbformat_minor": 2
}
