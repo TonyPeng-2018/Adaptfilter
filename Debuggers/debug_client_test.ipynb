{
 "cells": [
  {
   "cell_type": "code",
   "execution_count": 3,
   "metadata": {},
   "outputs": [
    {
     "name": "stdout",
     "output_type": "stream",
     "text": [
      "Files already downloaded and verified\n",
      "Files already downloaded and verified\n",
      "torch.Size([100, 32, 16, 16])\n",
      "tensor(0.2799, device='cuda:0')\n"
     ]
    }
   ],
   "source": [
    "# get the dataset\n",
    "from Dataloaders import dataloader_cifar10\n",
    "\n",
    "train, test, _ = dataloader_cifar10.Dataloader_cifar10()\n",
    "\n",
    "from Models import mobilenetv2_original\n",
    "\n",
    "client, server = mobilenetv2_original.stupid_model_splitter(num_classes=10,\n",
    "                weight_path='./Weights/cifar-10/model/mobilenetv2_2024_06_20_18_05_59.pth')\n",
    "\n",
    "client = client.cuda()\n",
    "client.eval()\n",
    "\n",
    "import torch\n",
    "with torch.no_grad():\n",
    "    for i, data in enumerate(test):\n",
    "        inputs, labels = data\n",
    "        inputs, labels = inputs.cuda(), labels.cuda()\n",
    "        outputs = client(inputs)\n",
    "        break\n",
    "    print(outputs.size())\n",
    "    zeros = torch.eq(outputs, 0).sum() / outputs.numel()\n",
    "    print(zeros)"
   ]
  }
 ],
 "metadata": {
  "kernelspec": {
   "display_name": "iot",
   "language": "python",
   "name": "python3"
  },
  "language_info": {
   "codemirror_mode": {
    "name": "ipython",
    "version": 3
   },
   "file_extension": ".py",
   "mimetype": "text/x-python",
   "name": "python",
   "nbconvert_exporter": "python",
   "pygments_lexer": "ipython3",
   "version": "3.12.3"
  }
 },
 "nbformat": 4,
 "nbformat_minor": 2
}
