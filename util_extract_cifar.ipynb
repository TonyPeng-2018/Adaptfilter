{
 "cells": [
  {
   "cell_type": "code",
   "execution_count": 6,
   "metadata": {},
   "outputs": [
    {
     "name": "stdout",
     "output_type": "stream",
     "text": [
      "Files already downloaded and verified\n",
      "Files already downloaded and verified\n",
      "test_data shape: (10000, 32, 32, 3)\n",
      "test_labels shape: 10000\n",
      "saving 0\n",
      "saving 1000\n",
      "saving 2000\n",
      "saving 3000\n",
      "saving 4000\n",
      "saving 5000\n",
      "saving 6000\n",
      "saving 7000\n",
      "saving 8000\n",
      "saving 9000\n"
     ]
    }
   ],
   "source": [
    "# \n",
    "from Dataloaders import dataloader_cifar10\n",
    "import cv2\n",
    "\n",
    "train, test, classes = dataloader_cifar10.Dataloader_cifar10(train_batch=128, test_batch=100, seed=2024, val_set = False, \n",
    "                       datasetpath = '/home/tonypeng/Workspace1/adaptfilter/data/', num_workers = 4)\n",
    "# store test data\n",
    "test_data = test.dataset.data\n",
    "test_labels = test.dataset.targets\n",
    "print('test_data shape:', test_data.shape)\n",
    "print('test_labels shape:', len(test_labels))\n",
    "\n",
    "for i, d in enumerate(test_data):\n",
    "    if i % 1000 == 0:\n",
    "        print('saving', i)\n",
    "    img = d\n",
    "    label = test_labels[i]\n",
    "    img_name = '/home/tonypeng/Workspace1/adaptfilter/data/cifar-10-image/' + str(i) + '_' + str(label) + '.bmp' \n",
    "    cv2.imwrite(img_name, img)\n"
   ]
  },
  {
   "cell_type": "code",
   "execution_count": 14,
   "metadata": {},
   "outputs": [
    {
     "name": "stdout",
     "output_type": "stream",
     "text": [
      "Time: 0.01047515869140625\n"
     ]
    }
   ],
   "source": [
    "import time\n",
    "# compress the image\n",
    "\n",
    "import cv2\n",
    "image = cv2.imread('./test2.bmp')\n",
    "start = time.time()\n",
    "jpeg_quality = 10  \n",
    "cv2.imwrite('./test2_jpeg_10.jpg', image, [cv2.IMWRITE_JPEG_QUALITY, jpeg_quality])\n",
    "end = time.time()\n",
    "print('Time:', end - start)"
   ]
  },
  {
   "cell_type": "code",
   "execution_count": null,
   "metadata": {},
   "outputs": [],
   "source": []
  }
 ],
 "metadata": {
  "kernelspec": {
   "display_name": "iot",
   "language": "python",
   "name": "python3"
  },
  "language_info": {
   "codemirror_mode": {
    "name": "ipython",
    "version": 3
   },
   "file_extension": ".py",
   "mimetype": "text/x-python",
   "name": "python",
   "nbconvert_exporter": "python",
   "pygments_lexer": "ipython3",
   "version": "3.12.3"
  }
 },
 "nbformat": 4,
 "nbformat_minor": 2
}
