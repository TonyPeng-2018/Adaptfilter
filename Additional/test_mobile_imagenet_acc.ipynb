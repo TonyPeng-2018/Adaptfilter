{
 "cells": [
  {
   "cell_type": "code",
   "execution_count": 3,
   "metadata": {},
   "outputs": [
    {
     "name": "stderr",
     "output_type": "stream",
     "text": [
      "  0%|          | 0/51 [00:00<?, ?it/s]\n"
     ]
    },
    {
     "ename": "ValueError",
     "evalue": "not enough values to unpack (expected 3, got 2)",
     "output_type": "error",
     "traceback": [
      "\u001b[0;31m---------------------------------------------------------------------------\u001b[0m",
      "\u001b[0;31mValueError\u001b[0m                                Traceback (most recent call last)",
      "Cell \u001b[0;32mIn[3], line 24\u001b[0m\n\u001b[1;32m     22\u001b[0m hit_rate \u001b[38;5;241m=\u001b[39m [\u001b[38;5;241m0\u001b[39m] \u001b[38;5;241m*\u001b[39m \u001b[38;5;241m20\u001b[39m\n\u001b[1;32m     23\u001b[0m target_list \u001b[38;5;241m=\u001b[39m [\u001b[38;5;241m109\u001b[39m, \u001b[38;5;241m618\u001b[39m, \u001b[38;5;241m536\u001b[39m, \u001b[38;5;241m546\u001b[39m, \u001b[38;5;241m347\u001b[39m, \u001b[38;5;241m40\u001b[39m, \u001b[38;5;241m415\u001b[39m, \u001b[38;5;241m619\u001b[39m, \u001b[38;5;241m208\u001b[39m, \u001b[38;5;241m314\u001b[39m, \u001b[38;5;241m8\u001b[39m, \u001b[38;5;241m525\u001b[39m, \u001b[38;5;241m714\u001b[39m, \u001b[38;5;241m52\u001b[39m, \u001b[38;5;241m221\u001b[39m, \u001b[38;5;241m523\u001b[39m, \u001b[38;5;241m785\u001b[39m, \u001b[38;5;241m951\u001b[39m, \u001b[38;5;241m984\u001b[39m, \u001b[38;5;241m965\u001b[39m]\n\u001b[0;32m---> 24\u001b[0m \u001b[38;5;28;01mfor\u001b[39;00m i, (data, target, _) \u001b[38;5;129;01min\u001b[39;00m \u001b[38;5;28menumerate\u001b[39m(tqdm(test)):\n\u001b[1;32m     25\u001b[0m     data, target \u001b[38;5;241m=\u001b[39m data\u001b[38;5;241m.\u001b[39mcuda(), target\u001b[38;5;241m.\u001b[39mcuda()\n\u001b[1;32m     27\u001b[0m     output \u001b[38;5;241m=\u001b[39m client(data)\n",
      "\u001b[0;31mValueError\u001b[0m: not enough values to unpack (expected 3, got 2)"
     ]
    }
   ],
   "source": [
    "# test cifar, imagenet acc\n",
    "\n",
    "from Dataloaders import dataloader_image_20\n",
    "train, test, val = dataloader_image_20.Dataloader_imagenet_20_integrated()\n",
    "\n",
    "from Models import mobilenetv2, resnet\n",
    "# client, server = mobilenetv2.mobilenetv2_splitter(num_classes=1000, weight_root='./Weights/imagenet/')\n",
    "client, server = resnet.resnet_splitter(num_classes=1000, weight_root='./Weights/imagenet/', layers=50)\n",
    "\n",
    "client = client.cuda()\n",
    "server = server.cuda()\n",
    "client.eval()\n",
    "server.eval()\n",
    "\n",
    "import torch\n",
    "from tqdm import tqdm\n",
    "\n",
    "# calculate the correct rate of each label\n",
    "with torch.no_grad():\n",
    "    acc = 0\n",
    "    label_correct_rate = [0] * 20\n",
    "    hit_rate = [0] * 20\n",
    "    target_list = [109, 618, 536, 546, 347, 40, 415, 619, 208, 314, 8, 525, 714, 52, 221, 523, 785, 951, 984, 965]\n",
    "    for i, (data, target) in enumerate(tqdm(test)):\n",
    "        data, target = data.cuda(), target.cuda()\n",
    "        \n",
    "        output = client(data)\n",
    "        output = server(output)\n",
    "        output = output.argmax(dim=1)\n",
    "        acc += (output == target).sum().item()\n",
    "        # for i in target.cuda().cpu().numpy():\n",
    "        #     if i not in target_list:\n",
    "        #         target_list.append(i)\n",
    "        for i in range(output.size(0)):\n",
    "            for j in range(20):\n",
    "                if target[i] == target_list[j]:\n",
    "                    hit_rate[j] += 1\n",
    "                    if output[i] == target[i]:\n",
    "                        label_correct_rate[j] += 1\n",
    "\n",
    "    print(len(test.dataset))\n",
    "    print(acc / len(test.dataset))\n",
    "    print([label_correct_rate[i] / max(1,hit_rate[i]) for i in range(20)])\n",
    "    print(hit_rate)\n",
    "    # print(target_list)"
   ]
  },
  {
   "cell_type": "code",
   "execution_count": null,
   "metadata": {},
   "outputs": [],
   "source": []
  }
 ],
 "metadata": {
  "kernelspec": {
   "display_name": "iot",
   "language": "python",
   "name": "python3"
  },
  "language_info": {
   "codemirror_mode": {
    "name": "ipython",
    "version": 3
   },
   "file_extension": ".py",
   "mimetype": "text/x-python",
   "name": "python",
   "nbconvert_exporter": "python",
   "pygments_lexer": "ipython3",
   "version": "3.12.3"
  }
 },
 "nbformat": 4,
 "nbformat_minor": 2
}
