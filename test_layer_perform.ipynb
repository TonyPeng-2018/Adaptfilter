{
 "cells": [
  {
   "cell_type": "code",
   "execution_count": null,
   "metadata": {},
   "outputs": [],
   "source": [
    "# this is for measuring the latency and bandwdith of the network\n",
    "from Models import mobilenetv2, resnet\n",
    "import torch\n",
    "m_cifar = mobilenetv2.MobileNetV2_layers(num_classes=10)\n",
    "m_imagenet = mobilenetv2.MobileNetV2_layers(num_classes=1000)\n",
    "r_cifar = resnet.ResNet_layers(num_classes=10, layers=[3, 4, 6, 3])\n",
    "r_imagenet = resnet.ResNet_layers(num_classes=1000, layers=[3, 4, 6, 3])\n",
    "\n",
    "import torchsummary\n",
    "torchsummary.summary(m_cifar, (3, 32, 32))\n",
    "torchsummary.summary(m_imagenet, (3, 224, 224))\n",
    "torchsummary.summary(r_cifar, (3, 32, 32))\n",
    "torchsummary.summary(r_imagenet, (3, 224, 224))\n"
   ]
  }
 ],
 "metadata": {
  "language_info": {
   "name": "python"
  }
 },
 "nbformat": 4,
 "nbformat_minor": 2
}
