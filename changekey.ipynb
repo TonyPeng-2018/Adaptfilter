{
 "cells": [
  {
   "cell_type": "code",
   "execution_count": 9,
   "metadata": {},
   "outputs": [
    {
     "name": "stderr",
     "output_type": "stream",
     "text": [
      "/tmp/ipykernel_2369273/2932974357.py:9: FutureWarning: You are using `torch.load` with `weights_only=False` (the current default value), which uses the default pickle module implicitly. It is possible to construct malicious pickle data which will execute arbitrary code during unpickling (See https://github.com/pytorch/pytorch/blob/main/SECURITY.md#untrusted-models for more details). In a future release, the default value for `weights_only` will be flipped to `True`. This limits the functions that could be executed during unpickling. Arbitrary objects will no longer be allowed to be loaded via this mode unless they are explicitly allowlisted by the user via `torch.serialization.add_safe_globals`. We recommend you start setting `weights_only=True` for any use case where you don't have full control of the loaded file. Please open an issue on GitHub for any issues related to this experimental feature.\n",
      "  weights = torch.load(weight)\n"
     ]
    },
    {
     "name": "stdout",
     "output_type": "stream",
     "text": [
      "dict_keys(['client', 'server', 'new_classifier', 'enc', 'dec', 'optimizer', 'epoch', 'val_acc'])\n",
      "dict_keys(['client', 'server', 'new_classifier', 'downsampler', 'upsampler', 'optimizer', 'epoch', 'val_acc'])\n"
     ]
    }
   ],
   "source": [
    "# weight = 'Weights/imagenet-new/pretrained/mobilenet.pth'\n",
    "# new_weight = 'Weights/imagenet-new/pretrained/mobilenet-new.pth'\n",
    "weight = 'Weights/imagenet-new/pretrained/resnet.pth'\n",
    "new_weight = 'Weights/imagenet-new/pretrained/resnet-new.pth'\n",
    "\n",
    "import os\n",
    "import torch\n",
    "\n",
    "weights = torch.load(weight)\n",
    "print(weights.keys())\n",
    "for key in list(weights.keys()):\n",
    "    weights[key.replace('enc', 'downsampler')] = weights.pop(key)\n",
    "for key in list(weights.keys()):\n",
    "    weights[key.replace('dec', 'upsampler')] = weights.pop(key)\n",
    "print(weights.keys())\n",
    "torch.save(weights, new_weight)"
   ]
  }
 ],
 "metadata": {
  "kernelspec": {
   "display_name": "adapt",
   "language": "python",
   "name": "python3"
  },
  "language_info": {
   "codemirror_mode": {
    "name": "ipython",
    "version": 3
   },
   "file_extension": ".py",
   "mimetype": "text/x-python",
   "name": "python",
   "nbconvert_exporter": "python",
   "pygments_lexer": "ipython3",
   "version": "3.12.7"
  }
 },
 "nbformat": 4,
 "nbformat_minor": 2
}
