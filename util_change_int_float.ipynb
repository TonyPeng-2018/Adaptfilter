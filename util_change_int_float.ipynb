{
 "cells": [
  {
   "cell_type": "code",
   "execution_count": 8,
   "metadata": {},
   "outputs": [
    {
     "name": "stdout",
     "output_type": "stream",
     "text": [
      "0.996078431372549\n"
     ]
    },
    {
     "data": {
      "text/plain": [
       "True"
      ]
     },
     "execution_count": 8,
     "metadata": {},
     "output_type": "execute_result"
    }
   ],
   "source": [
    "# \n",
    "im = '../data/cifar-10-client/'\n",
    "\n",
    "import os\n",
    "import numpy as np\n",
    "import matplotlib.pyplot as plt\n",
    "import matplotlib.image as mpimg\n",
    "import random\n",
    "\n",
    "# get all file in this path\n",
    "im_path = os.listdir(im)\n",
    "im_path = [x for x in im_path if x[-3:] == 'bmp']\n",
    "\n",
    "# change the int to float \n",
    "import PIL.Image as Image\n",
    "im = Image.open(im + im_path[0])\n",
    "im = np.array(im)\n",
    "im = im.astype(float)\n",
    "im = im/255.0\n",
    "print(np.max(im))\n",
    "# store image\n",
    "\n",
    "import cv2\n",
    "cv2.imwrite('test.bmp', im)"
   ]
  }
 ],
 "metadata": {
  "kernelspec": {
   "display_name": "iot",
   "language": "python",
   "name": "python3"
  },
  "language_info": {
   "codemirror_mode": {
    "name": "ipython",
    "version": 3
   },
   "file_extension": ".py",
   "mimetype": "text/x-python",
   "name": "python",
   "nbconvert_exporter": "python",
   "pygments_lexer": "ipython3",
   "version": "3.12.3"
  }
 },
 "nbformat": 4,
 "nbformat_minor": 2
}
