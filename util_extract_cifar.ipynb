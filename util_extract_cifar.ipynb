{
 "cells": [
  {
   "cell_type": "code",
   "execution_count": 9,
   "metadata": {},
   "outputs": [
    {
     "name": "stdout",
     "output_type": "stream",
     "text": [
      "Files already downloaded and verified\n",
      "Files already downloaded and verified\n",
      "test data saved\n"
     ]
    }
   ],
   "source": [
    "# \n",
    "from Dataloaders import dataloader_cifar10\n",
    "import cv2\n",
    "import torch\n",
    "\n",
    "train, test, classes = dataloader_cifar10.Dataloader_cifar10(train_batch=128, test_batch=1, seed=2024, val_set = False, \n",
    "                       datasetpath = '/home/tonypeng/Workspace1/adaptfilter/data/', num_workers = 4, normalize=False)\n",
    "# store test data\n",
    "labels = ''\n",
    "count = 0\n",
    "for i, d in enumerate(test):\n",
    "    img, label = d\n",
    "    img_name = '/home/tonypeng/Workspace1/adaptfilter/data/cifar-10-client/' + str(i) + '.bmp' \n",
    "    img = img.squeeze(0).numpy()\n",
    "    img = img.transpose(1, 2, 0)\n",
    "    img = img * 255\n",
    "    img = cv2.cvtColor(img, cv2.COLOR_RGB2BGR)\n",
    "    \n",
    "    cv2.imwrite(img_name, img)\n",
    "    labels += str(label) + '\\n'\n",
    "    count += 1\n",
    "    if count == 600:\n",
    "        break\n",
    "with open('/home/tonypeng/Workspace1/adaptfilter/data/cifar-10-client/labels.txt', 'w') as f:\n",
    "    f.write(labels)\n",
    "print('test data saved')\n"
   ]
  },
  {
   "cell_type": "code",
   "execution_count": null,
   "metadata": {},
   "outputs": [],
   "source": [
    "cv2 = cv2"
   ]
  },
  {
   "cell_type": "code",
   "execution_count": 34,
   "metadata": {},
   "outputs": [
    {
     "data": {
      "text/plain": [
       "('plane',\n",
       " 'car',\n",
       " 'bird',\n",
       " 'cat',\n",
       " 'deer',\n",
       " 'dog',\n",
       " 'frog',\n",
       " 'horse',\n",
       " 'ship',\n",
       " 'truck')"
      ]
     },
     "execution_count": 34,
     "metadata": {},
     "output_type": "execute_result"
    }
   ],
   "source": [
    "classes"
   ]
  },
  {
   "cell_type": "code",
   "execution_count": 12,
   "metadata": {},
   "outputs": [
    {
     "name": "stdout",
     "output_type": "stream",
     "text": [
      "test data saved\n"
     ]
    }
   ],
   "source": [
    "# \n",
    "from Dataloaders import dataloader_cifar100\n",
    "import cv2\n",
    "import torch\n",
    "\n",
    "train, test = dataloader_cifar100.Dataloader_cifar100(train_batch=128, test_batch=1, seed=2024, val_set = False, \n",
    "                       datasetpath = '/home/tonypeng/Workspace1/adaptfilter/data/')\n",
    "# store test data\n",
    "labels = ''\n",
    "count = 0\n",
    "for i, d in enumerate(test):\n",
    "    img, label = d\n",
    "    img_name = '/home/tonypeng/Workspace1/adaptfilter/data/cifar-100-client/' + str(i) + '.bmp' \n",
    "    img = img.squeeze(0).numpy()\n",
    "    img = img.transpose(1, 2, 0)\n",
    "    img = img * 255\n",
    "    img = cv2.cvtColor(img, cv2.COLOR_RGB2BGR)\n",
    "    \n",
    "    cv2.imwrite(img_name, img)\n",
    "    labels += str(label) + '\\n'\n",
    "    count += 1\n",
    "    if count == 600:\n",
    "        break\n",
    "with open('/home/tonypeng/Workspace1/adaptfilter/data/cifar-100-client/labels.txt', 'w') as f:\n",
    "    f.write(labels)\n",
    "print('test data saved')\n"
   ]
  },
  {
   "cell_type": "code",
   "execution_count": 15,
   "metadata": {},
   "outputs": [
    {
     "name": "stdout",
     "output_type": "stream",
     "text": [
      "Time: 0.08774638175964355\n"
     ]
    }
   ],
   "source": [
    "import time\n",
    "# compress the image\n",
    "\n",
    "import cv2\n",
    "image = cv2.imread('./test2.bmp')\n",
    "start = time.time()\n",
    "jpeg_quality = 10  \n",
    "cv2.imwrite('./test2_jpeg_10.jpg', image, [cv2.IMWRITE_JPEG_QUALITY, jpeg_quality])\n",
    "end = time.time()\n",
    "print('Time:', end - start)"
   ]
  },
  {
   "cell_type": "code",
   "execution_count": 7,
   "metadata": {},
   "outputs": [
    {
     "name": "stdout",
     "output_type": "stream",
     "text": [
      "test data saved\n"
     ]
    }
   ],
   "source": [
    "from Dataloaders import dataloader_imagenet\n",
    "import cv2\n",
    "import torch\n",
    "import sys\n",
    "import numpy as np\n",
    "\n",
    "imagenet = dataloader_imagenet.Dataset_imagenet('home')\n",
    "_, test, _ = imagenet.return_sampler()\n",
    "_, test_set, _ = imagenet.return_dict()\n",
    "\n",
    "torch.random.manual_seed(2024)\n",
    "test_loader = dataloader_imagenet.Dataloader_imagenet(test, test_set, transform = False)\n",
    "test_loader = torch.utils.data.DataLoader(test_loader, batch_size=1, shuffle=False)\n",
    "\n",
    "count = 0\n",
    "labels = ''\n",
    "for i, d in enumerate(test_loader):\n",
    "    # we store the first 100 images in the test loader\n",
    "    img, label = d    \n",
    "    img = img.numpy() * 255\n",
    "    img = img.squeeze(0).transpose(1, 2, 0)\n",
    "    img = cv2.cvtColor(img, cv2.COLOR_RGB2BGR)\n",
    "    label = label.numpy()[0]\n",
    "    img_name = '/home/tonypeng/Workspace1/adaptfilter/data/imagenet-client/' + str(i) + '.bmp' \n",
    "    cv2.imwrite(img_name, img)\n",
    "    labels += str(label) + '\\n'\n",
    "    count += 1\n",
    "    if count == 600:\n",
    "        break\n",
    "with open('/home/tonypeng/Workspace1/adaptfilter/data/imagenet-client/labels.txt', 'w') as f:\n",
    "    f.write(labels)\n",
    "print('test data saved')\n",
    "    \n"
   ]
  }
 ],
 "metadata": {
  "kernelspec": {
   "display_name": "iot",
   "language": "python",
   "name": "python3"
  },
  "language_info": {
   "codemirror_mode": {
    "name": "ipython",
    "version": 3
   },
   "file_extension": ".py",
   "mimetype": "text/x-python",
   "name": "python",
   "nbconvert_exporter": "python",
   "pygments_lexer": "ipython3",
   "version": "3.12.3"
  }
 },
 "nbformat": 4,
 "nbformat_minor": 2
}
