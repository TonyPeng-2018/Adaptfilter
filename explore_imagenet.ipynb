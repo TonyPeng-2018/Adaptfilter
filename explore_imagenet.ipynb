{
 "cells": [
  {
   "cell_type": "markdown",
   "metadata": {},
   "source": [
    "split the train set to train and val - train 1250 - val 50, \n",
    "test is from the annotation"
   ]
  },
  {
   "cell_type": "code",
   "execution_count": 3,
   "metadata": {},
   "outputs": [
    {
     "ename": "FileNotFoundError",
     "evalue": "[Errno 2] No such file or directory: 'data/imagenet-20/train/'",
     "output_type": "error",
     "traceback": [
      "\u001b[0;31m---------------------------------------------------------------------------\u001b[0m",
      "\u001b[0;31mFileNotFoundError\u001b[0m                         Traceback (most recent call last)",
      "Cell \u001b[0;32mIn[3], line 3\u001b[0m\n\u001b[1;32m      1\u001b[0m dataset \u001b[38;5;241m=\u001b[39m \u001b[38;5;124m'\u001b[39m\u001b[38;5;124mdata/imagenet-20/train/\u001b[39m\u001b[38;5;124m'\u001b[39m\n\u001b[1;32m      2\u001b[0m \u001b[38;5;28;01mimport\u001b[39;00m \u001b[38;5;21;01mos\u001b[39;00m \n\u001b[0;32m----> 3\u001b[0m folder_list \u001b[38;5;241m=\u001b[39m os\u001b[38;5;241m.\u001b[39mlistdir(dataset)\n\u001b[1;32m      4\u001b[0m \u001b[38;5;28mprint\u001b[39m(folder_list)\n\u001b[1;32m      6\u001b[0m \u001b[38;5;28;01mimport\u001b[39;00m \u001b[38;5;21;01mcsv\u001b[39;00m\n",
      "\u001b[0;31mFileNotFoundError\u001b[0m: [Errno 2] No such file or directory: 'data/imagenet-20/train/'"
     ]
    }
   ],
   "source": [
    "dataset = 'data/imagenet-20-new/train/'\n",
    "import os \n",
    "folder_list = os.listdir(dataset)\n",
    "print(folder_list)\n",
    "\n",
    "import csv\n",
    "csv_file = '/home/tonypeng/Workspace1/adaptfilter/data/imagenet/LOC_val_solution.csv'\n",
    "testset = 'data/imagenet-20-new/test/'\n",
    "rawset = '/home/tonypeng/Workspace1/adaptfilter/data/imagenet/ILSVRC/Data/CLS-LOC/val/'\n",
    "with open(csv_file, newline='') as file:\n",
    "    spamreader = csv.reader(file, delimiter=',')\n",
    "    for row in spamreader:\n",
    "        img = row[0] + '.JPEG'\n",
    "        label = row[1][:9]\n",
    "        if label in folder_list:\n",
    "            if not os.path.exists(testset + label):\n",
    "                os.makedirs(testset + label)\n",
    "            os.system('cp ' + rawset + img + ' ' + testset + label + '/' + img)\n",
    "            \n",
    "    "
   ]
  }
 ],
 "metadata": {
  "kernelspec": {
   "display_name": "adapt",
   "language": "python",
   "name": "python3"
  },
  "language_info": {
   "codemirror_mode": {
    "name": "ipython",
    "version": 3
   },
   "file_extension": ".py",
   "mimetype": "text/x-python",
   "name": "python",
   "nbconvert_exporter": "python",
   "pygments_lexer": "ipython3",
   "version": "3.12.7"
  }
 },
 "nbformat": 4,
 "nbformat_minor": 2
}
