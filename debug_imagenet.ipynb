{
 "cells": [
  {
   "cell_type": "code",
   "execution_count": 3,
   "metadata": {},
   "outputs": [],
   "source": [
    "import os\n",
    "from torch.utils.data import Dataset\n",
    "from PIL import Image\n",
    "import json\n",
    "class ImageNetKaggle(Dataset):\n",
    "    def __init__(self, root, split, transform=None):\n",
    "        self.samples = []\n",
    "        self.targets = []\n",
    "        self.transform = transform\n",
    "        self.syn_to_class = {}\n",
    "        with open(os.path.join(root, \"imagenet_class_index.json\"), \"rb\") as f:\n",
    "                    json_file = json.load(f)\n",
    "                    for class_id, v in json_file.items():\n",
    "                        self.syn_to_class[v[0]] = int(class_id)\n",
    "        with open(os.path.join(root, \"ILSVRC2012_val_labels.json\"), \"rb\") as f:\n",
    "                    self.val_to_syn = json.load(f)\n",
    "        samples_dir = os.path.join(root, \"ILSVRC/Data/CLS-LOC\", split)\n",
    "        for entry in os.listdir(samples_dir):\n",
    "            if split == \"train\":\n",
    "                syn_id = entry\n",
    "                target = self.syn_to_class[syn_id]\n",
    "                syn_folder = os.path.join(samples_dir, syn_id)\n",
    "                for sample in os.listdir(syn_folder):\n",
    "                    sample_path = os.path.join(syn_folder, sample)\n",
    "                    self.samples.append(sample_path)\n",
    "                    self.targets.append(target)\n",
    "            elif split == \"val\":\n",
    "                syn_id = self.val_to_syn[entry]\n",
    "                target = self.syn_to_class[syn_id]\n",
    "                sample_path = os.path.join(samples_dir, entry)\n",
    "                self.samples.append(sample_path)\n",
    "                self.targets.append(target)\n",
    "    def __len__(self):\n",
    "            return len(self.samples)\n",
    "    def __getitem__(self, idx):\n",
    "            x = Image.open(self.samples[idx]).convert(\"RGB\")\n",
    "            if self.transform:\n",
    "                x = self.transform(x)\n",
    "            return x, self.targets[idx]"
   ]
  },
  {
   "cell_type": "code",
   "execution_count": 2,
   "metadata": {},
   "outputs": [
    {
     "ename": "SyntaxError",
     "evalue": "incomplete input (1255421860.py, line 9)",
     "output_type": "error",
     "traceback": [
      "\u001b[0;36m  Cell \u001b[0;32mIn[2], line 9\u001b[0;36m\u001b[0m\n\u001b[0;31m    # get the set for train, test and val\u001b[0m\n\u001b[0m                                         ^\u001b[0m\n\u001b[0;31mSyntaxError\u001b[0m\u001b[0;31m:\u001b[0m incomplete input\n"
     ]
    }
   ],
   "source": [
    "# here we start from the scratch\n",
    "import torch\n",
    "import torch.nn as nn\n",
    "import os\n",
    "from PIL import Image\n",
    "\n",
    "class Dataloader_imagenet(Dataset):\n",
    "    def __init__(self, device):\n",
    "        # get the set for train, test and val\n",
    "        # path to the file, the number of it, \n",
    "        if device == 'server':\n",
    "            self.train_set = '/home/tonypeng/Workspace1/adaptfilter/data/imagenet/ILSVRC/ImageSets/CLS-LOC/train_cls.txt' # this should be splited into train and val\n",
    "        # we need to get the data and the label\n",
    "        \n"
   ]
  },
  {
   "cell_type": "code",
   "execution_count": 3,
   "metadata": {},
   "outputs": [
    {
     "ename": "SyntaxError",
     "evalue": "invalid syntax (426804724.py, line 18)",
     "output_type": "error",
     "traceback": [
      "\u001b[0;36m  Cell \u001b[0;32mIn[3], line 18\u001b[0;36m\u001b[0m\n\u001b[0;31m    dataset = ImageNetKaggle(<YOUR_FOLDER>, \"val\", val_transform)\u001b[0m\n\u001b[0m                             ^\u001b[0m\n\u001b[0;31mSyntaxError\u001b[0m\u001b[0;31m:\u001b[0m invalid syntax\n"
     ]
    }
   ],
   "source": [
    "from torch.utils.data import DataLoader\n",
    "from torchvision import transforms\n",
    "import torch\n",
    "import torchvision\n",
    "from tqdm import tqdm\n",
    "model = torchvision.models.resnet50(weights=\"DEFAULT\")\n",
    "model.eval().cuda()  # Needs CUDA, don't bother on CPUs\n",
    "mean = (0.485, 0.456, 0.406)\n",
    "std = (0.229, 0.224, 0.225)\n",
    "val_transform = transforms.Compose(\n",
    "            [\n",
    "                transforms.Resize(256),\n",
    "                transforms.CenterCrop(224),\n",
    "                transforms.ToTensor(),\n",
    "                transforms.Normalize(mean, std),\n",
    "            ]\n",
    "        )\n",
    "dataset = ImageNetKaggle('/data/anp407/imagenet', \"val\", val_transform)\n",
    "dataloader = DataLoader(\n",
    "            dataset,\n",
    "            batch_size=64, # may need to reduce this depending on your GPU \n",
    "            num_workers=8, # may need to reduce this depending on your num of CPUs and RAM\n",
    "            shuffle=False,\n",
    "            drop_last=False,\n",
    "            pin_memory=True\n",
    "        )\n",
    "correct = 0\n",
    "total = 0\n",
    "with torch.no_grad():\n",
    "    for x, y in tqdm(dataloader):\n",
    "        y_pred = model(x.cuda())\n",
    "        correct += (y_pred.argmax(axis=1) == y.cuda()).sum().item()\n",
    "        total += len(y)\n",
    "print(correct / total)"
   ]
  }
 ],
 "metadata": {
  "kernelspec": {
   "display_name": "py312",
   "language": "python",
   "name": "python3"
  },
  "language_info": {
   "codemirror_mode": {
    "name": "ipython",
    "version": 3
   },
   "file_extension": ".py",
   "mimetype": "text/x-python",
   "name": "python",
   "nbconvert_exporter": "python",
   "pygments_lexer": "ipython3",
   "version": "3.12.3"
  }
 },
 "nbformat": 4,
 "nbformat_minor": 2
}
