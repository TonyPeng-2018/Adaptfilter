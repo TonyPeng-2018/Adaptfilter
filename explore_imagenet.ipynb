{
 "cells": [
  {
   "cell_type": "markdown",
   "metadata": {},
   "source": [
    "split the train set to train and val - train 1250 - val 50, \n",
    "test is from the annotation"
   ]
  },
  {
   "cell_type": "code",
   "execution_count": 4,
   "metadata": {},
   "outputs": [
    {
     "name": "stdout",
     "output_type": "stream",
     "text": [
      "['n03272010', 'n01728572', 'n03637318', 'n07749582', 'n04162706', 'n02776631', 'n03141823', 'n11879895', 'n02870880', 'n01917289', 'n03160309', 'n01877812', 'n02099712', 'n01514859', 'n02233338', 'n03633091', 'n07880968', 'n01682714', 'n02410509', 'n03769881']\n"
     ]
    }
   ],
   "source": [
    "dataset = 'data/imagenet-20-new/train/'\n",
    "import os \n",
    "folder_list = os.listdir(dataset)\n",
    "print(folder_list)\n",
    "\n",
    "import csv\n",
    "csv_file = '/home/tonypeng/Workspace1/adaptfilter/data/imagenet/LOC_val_solution.csv'\n",
    "testset = 'data/imagenet-20-new/test/'\n",
    "rawset = '/home/tonypeng/Workspace1/adaptfilter/data/imagenet/ILSVRC/Data/CLS-LOC/val/'\n",
    "with open(csv_file, newline='') as file:\n",
    "    spamreader = csv.reader(file, delimiter=',')\n",
    "    for row in spamreader:\n",
    "        img = row[0] + '.JPEG'\n",
    "        label = row[1][:9]\n",
    "        if label in folder_list:\n",
    "            if not os.path.exists(testset + label):\n",
    "                os.makedirs(testset + label)\n",
    "            os.system('cp ' + rawset + img + ' ' + testset + label + '/' + img)\n",
    "            \n",
    "    "
   ]
  }
 ],
 "metadata": {
  "kernelspec": {
   "display_name": "adapt",
   "language": "python",
   "name": "python3"
  },
  "language_info": {
   "codemirror_mode": {
    "name": "ipython",
    "version": 3
   },
   "file_extension": ".py",
   "mimetype": "text/x-python",
   "name": "python",
   "nbconvert_exporter": "python",
   "pygments_lexer": "ipython3",
   "version": "3.12.7"
  }
 },
 "nbformat": 4,
 "nbformat_minor": 2
}
