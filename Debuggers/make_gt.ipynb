{
 "cells": [
  {
   "cell_type": "code",
   "execution_count": 4,
   "metadata": {},
   "outputs": [
    {
     "name": "stdout",
     "output_type": "stream",
     "text": [
      "Files already downloaded and verified\n"
     ]
    }
   ],
   "source": [
    "# store the ground truth of data\n",
    "import os\n",
    "import torch\n",
    "import torchvision\n",
    "import torchvision.transforms as transforms\n",
    "import numpy as np\n",
    "import matplotlib.pyplot as plt\n",
    "seed = 2024\n",
    "torch.manual_seed(seed)\n",
    "transform_train = transforms.Compose([\n",
    "    transforms.RandomCrop(32, padding=4),\n",
    "    transforms.RandomHorizontalFlip(),\n",
    "    transforms.ToTensor(),\n",
    "    transforms.Normalize((0.4914, 0.4822, 0.4465), (0.2023, 0.1994, 0.2010)),\n",
    "    ])\n",
    "datasetpath ='../data/'\n",
    "storepath1 = '../data/cifar10/cifar-10-labels'\n",
    "storepath2 = '../data/cifar10/cifar-10-inputs'\n",
    "train_batch = 128\n",
    "trainset = torchvision.datasets.CIFAR10(\n",
    "    root=datasetpath, train=True, download=True, transform=transform_train)\n",
    "trainloader = torch.utils.data.DataLoader(\n",
    "    trainset, batch_size=train_batch, shuffle=True, num_workers=8)\n",
    "for i, (inputs, targets) in enumerate(trainloader):\n",
    "    # get the targets and store them\n",
    "    # store them in folders\n",
    "    torch.save(targets, os.path.join(storepath1, '%d.pth'%i))\n",
    "    torch.save(inputs, os.path.join(storepath2, '%d.pth'%i))"
   ]
  }
 ],
 "metadata": {
  "kernelspec": {
   "display_name": "iot",
   "language": "python",
   "name": "python3"
  },
  "language_info": {
   "codemirror_mode": {
    "name": "ipython",
    "version": 3
   },
   "file_extension": ".py",
   "mimetype": "text/x-python",
   "name": "python",
   "nbconvert_exporter": "python",
   "pygments_lexer": "ipython3",
   "version": "3.12.3"
  }
 },
 "nbformat": 4,
 "nbformat_minor": 2
}
