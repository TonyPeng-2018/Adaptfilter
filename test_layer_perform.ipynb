{
 "cells": [
  {
   "cell_type": "code",
   "execution_count": null,
   "metadata": {},
   "outputs": [],
   "source": [
    "# this is for measuring the latency and bandwdith of the network\n",
    "from Models import mobilenetv2, resnet\n",
    "import torch\n",
    "m1 = mobilenetv2()\n",
    "m2 = resnet()\n",
    "\n"
   ]
  }
 ],
 "metadata": {
  "language_info": {
   "name": "python"
  }
 },
 "nbformat": 4,
 "nbformat_minor": 2
}
