{
 "cells": [
  {
   "cell_type": "code",
   "execution_count": 1,
   "metadata": {},
   "outputs": [
    {
     "ename": "TypeError",
     "evalue": "ResNet_layers.__init__() missing 1 required positional argument: 'block'",
     "output_type": "error",
     "traceback": [
      "\u001b[0;31m---------------------------------------------------------------------------\u001b[0m",
      "\u001b[0;31mTypeError\u001b[0m                                 Traceback (most recent call last)",
      "Cell \u001b[0;32mIn[1], line 6\u001b[0m\n\u001b[1;32m      4\u001b[0m m_cifar \u001b[38;5;241m=\u001b[39m mobilenetv2\u001b[38;5;241m.\u001b[39mMobileNetV2_layers(num_classes\u001b[38;5;241m=\u001b[39m\u001b[38;5;241m10\u001b[39m)\n\u001b[1;32m      5\u001b[0m m_imagenet \u001b[38;5;241m=\u001b[39m mobilenetv2\u001b[38;5;241m.\u001b[39mMobileNetV2_layers(num_classes\u001b[38;5;241m=\u001b[39m\u001b[38;5;241m1000\u001b[39m)\n\u001b[0;32m----> 6\u001b[0m r_cifar \u001b[38;5;241m=\u001b[39m \u001b[43mresnet\u001b[49m\u001b[38;5;241;43m.\u001b[39;49m\u001b[43mResNet_layers\u001b[49m\u001b[43m(\u001b[49m\u001b[43mnum_classes\u001b[49m\u001b[38;5;241;43m=\u001b[39;49m\u001b[38;5;241;43m10\u001b[39;49m\u001b[43m,\u001b[49m\u001b[43m \u001b[49m\u001b[43mlayers\u001b[49m\u001b[38;5;241;43m=\u001b[39;49m\u001b[43m[\u001b[49m\u001b[38;5;241;43m3\u001b[39;49m\u001b[43m,\u001b[49m\u001b[43m \u001b[49m\u001b[38;5;241;43m4\u001b[39;49m\u001b[43m,\u001b[49m\u001b[43m \u001b[49m\u001b[38;5;241;43m6\u001b[39;49m\u001b[43m,\u001b[49m\u001b[43m \u001b[49m\u001b[38;5;241;43m3\u001b[39;49m\u001b[43m]\u001b[49m\u001b[43m)\u001b[49m\n\u001b[1;32m      7\u001b[0m r_imagenet \u001b[38;5;241m=\u001b[39m resnet\u001b[38;5;241m.\u001b[39mResNet_layers(num_classes\u001b[38;5;241m=\u001b[39m\u001b[38;5;241m1000\u001b[39m, layers\u001b[38;5;241m=\u001b[39m[\u001b[38;5;241m3\u001b[39m, \u001b[38;5;241m4\u001b[39m, \u001b[38;5;241m6\u001b[39m, \u001b[38;5;241m3\u001b[39m])\n\u001b[1;32m      9\u001b[0m \u001b[38;5;28;01mimport\u001b[39;00m \u001b[38;5;21;01mtorchsummary\u001b[39;00m\n",
      "\u001b[0;31mTypeError\u001b[0m: ResNet_layers.__init__() missing 1 required positional argument: 'block'"
     ]
    }
   ],
   "source": [
    "# this is for measuring the latency and bandwdith of the network\n",
    "from Models import mobilenetv2, resnet\n",
    "import torch\n",
    "m_cifar = mobilenetv2.MobileNetV2_layers(num_classes=10)\n",
    "m_imagenet = mobilenetv2.MobileNetV2_layers(num_classes=1000)\n",
    "r_cifar = resnet.ResNet_layers(num_classes=10, layers=[3, 4, 6, 3])\n",
    "r_imagenet = resnet.ResNet_layers(num_classes=1000, layers=[3, 4, 6, 3])\n",
    "\n",
    "import torchsummary\n",
    "torchsummary.summary(m_cifar, (3, 32, 32), device='cpu')\n",
    "torchsummary.summary(m_imagenet, (3, 224, 224), device='cpu')\n",
    "torchsummary.summary(r_cifar, (3, 32, 32), device='cpu')\n",
    "torchsummary.summary(r_imagenet, (3, 224, 224), device='cpu')\n"
   ]
  }
 ],
 "metadata": {
  "kernelspec": {
   "display_name": "iot",
   "language": "python",
   "name": "python3"
  },
  "language_info": {
   "codemirror_mode": {
    "name": "ipython",
    "version": 3
   },
   "file_extension": ".py",
   "mimetype": "text/x-python",
   "name": "python",
   "nbconvert_exporter": "python",
   "pygments_lexer": "ipython3",
   "version": "3.12.3"
  }
 },
 "nbformat": 4,
 "nbformat_minor": 2
}
