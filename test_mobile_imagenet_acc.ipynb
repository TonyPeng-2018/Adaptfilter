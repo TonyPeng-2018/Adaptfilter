{
 "cells": [
  {
   "cell_type": "code",
   "execution_count": 6,
   "metadata": {},
   "outputs": [
    {
     "name": "stderr",
     "output_type": "stream",
     "text": [
      "100%|██████████| 51/51 [00:19<00:00,  2.58it/s]"
     ]
    },
    {
     "name": "stdout",
     "output_type": "stream",
     "text": [
      "5087\n",
      "0.8647532927068999\n",
      "[0.968421052631579, 0.7032967032967034, 0.7459677419354839, 0.8801652892561983, 0.9766536964980544, 0.8007662835249042, 0.8226415094339623, 0.6859205776173285, 0.8445229681978799, 0.8941176470588236, 0.9090909090909091, 0.9473684210526315, 0.8909952606635071, 0.8111587982832618, 0.9267015706806283, 0.8371212121212122, 0.8869565217391304, 0.8619402985074627, 0.9875, 0.9484126984126984]\n",
      "[285, 273, 248, 242, 257, 261, 265, 277, 283, 255, 286, 266, 211, 233, 191, 264, 230, 268, 240, 252]\n"
     ]
    },
    {
     "name": "stderr",
     "output_type": "stream",
     "text": [
      "\n"
     ]
    }
   ],
   "source": [
    "# test cifar, imagenet acc\n",
    "\n",
    "from Dataloaders import dataloader_image_20\n",
    "train, test, val, _ = dataloader_image_20.Dataloader_imagenet_20_integrated()\n",
    "\n",
    "from Models import mobilenetv2, resnet\n",
    "# client, server = mobilenetv2.mobilenetv2_splitter(num_classes=1000, weight_root='./Weights/imagenet/')\n",
    "client, server = resnet.resnet_splitter(num_classes=1000, weight_root='./Weights/imagenet/', layers=50)\n",
    "\n",
    "client = client.cuda()\n",
    "server = server.cuda()\n",
    "client.eval()\n",
    "server.eval()\n",
    "\n",
    "import torch\n",
    "from tqdm import tqdm\n",
    "\n",
    "# calculate the correct rate of each label\n",
    "with torch.no_grad():\n",
    "    acc = 0\n",
    "    label_correct_rate = [0] * 20\n",
    "    hit_rate = [0] * 20\n",
    "    target_list = [109, 618, 536, 546, 347, 40, 415, 619, 208, 314, 8, 525, 714, 52, 221, 523, 785, 951, 984, 965]\n",
    "    for i, (data, target, _) in enumerate(tqdm(test)):\n",
    "        data, target = data.cuda(), target.cuda()\n",
    "        \n",
    "        output = client(data)\n",
    "        output = server(output)\n",
    "        output = output.argmax(dim=1)\n",
    "        acc += (output == target).sum().item()\n",
    "        # for i in target.cuda().cpu().numpy():\n",
    "        #     if i not in target_list:\n",
    "        #         target_list.append(i)\n",
    "        for i in range(output.size(0)):\n",
    "            for j in range(20):\n",
    "                if target[i] == target_list[j]:\n",
    "                    hit_rate[j] += 1\n",
    "                    if output[i] == target[i]:\n",
    "                        label_correct_rate[j] += 1\n",
    "\n",
    "    print(len(test.dataset))\n",
    "    print(acc / len(test.dataset))\n",
    "    print([label_correct_rate[i] / max(1,hit_rate[i]) for i in range(20)])\n",
    "    print(hit_rate)\n",
    "    # print(target_list)"
   ]
  },
  {
   "cell_type": "code",
   "execution_count": null,
   "metadata": {},
   "outputs": [],
   "source": []
  }
 ],
 "metadata": {
  "kernelspec": {
   "display_name": "iot",
   "language": "python",
   "name": "python3"
  },
  "language_info": {
   "codemirror_mode": {
    "name": "ipython",
    "version": 3
   },
   "file_extension": ".py",
   "mimetype": "text/x-python",
   "name": "python",
   "nbconvert_exporter": "python",
   "pygments_lexer": "ipython3",
   "version": "3.12.3"
  }
 },
 "nbformat": 4,
 "nbformat_minor": 2
}
