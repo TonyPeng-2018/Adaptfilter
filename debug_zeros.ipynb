{
 "cells": [
  {
   "cell_type": "code",
   "execution_count": 16,
   "metadata": {},
   "outputs": [
    {
     "ename": "UnboundLocalError",
     "evalue": "cannot access local variable 'inverted_residual_setting' where it is not associated with a value",
     "output_type": "error",
     "traceback": [
      "\u001b[0;31m---------------------------------------------------------------------------\u001b[0m",
      "\u001b[0;31mUnboundLocalError\u001b[0m                         Traceback (most recent call last)",
      "Cell \u001b[0;32mIn[16], line 17\u001b[0m\n\u001b[1;32m     13\u001b[0m \u001b[38;5;28;01mfrom\u001b[39;00m \u001b[38;5;21;01mModels\u001b[39;00m\u001b[38;5;21;01m.\u001b[39;00m\u001b[38;5;21;01mmobilenetv3\u001b[39;00m \u001b[38;5;28;01mimport\u001b[39;00m stupid_model_splitter \u001b[38;5;28;01mas\u001b[39;00m stupid_model_splitter2, MobileNetV3, _mobilenet_v3_conf\n\u001b[1;32m     14\u001b[0m \u001b[38;5;66;03m# inverted_residual_setting, last_channel = _mobilenet_v3_conf(\"mobilenet_v3_small\", num_classes = 1000)\u001b[39;00m\n\u001b[1;32m     15\u001b[0m \u001b[38;5;66;03m# model = MobileNetV3(inverted_residual_setting, last_channel)\u001b[39;00m\n\u001b[1;32m     16\u001b[0m \u001b[38;5;66;03m# model.load_state_dict(torch.load('/afs/cs.pitt.edu/usr0/anp407/Workspace/Adaptfilter/Weights/imagenet/model/2024_06_20_15_50_09/mobilenetV3_26_0.492.pth'))\u001b[39;00m\n\u001b[0;32m---> 17\u001b[0m client2, server2 \u001b[38;5;241m=\u001b[39m \u001b[43mstupid_model_splitter2\u001b[49m\u001b[43m(\u001b[49m\u001b[43mmodel_size\u001b[49m\u001b[38;5;241;43m=\u001b[39;49m\u001b[38;5;124;43m'\u001b[39;49m\u001b[38;5;124;43mmobilenet_v3_large\u001b[39;49m\u001b[38;5;124;43m'\u001b[39;49m\u001b[43m,\u001b[49m\u001b[43m \u001b[49m\u001b[43mweight_path\u001b[49m\u001b[38;5;241;43m=\u001b[39;49m\u001b[38;5;124;43m'\u001b[39;49m\u001b[38;5;124;43m/afs/cs.pitt.edu/usr0/anp407/Workspace/Adaptfilter/Weights/imagenet/model/2024_06_20_15_50_09/mobilenetV3_26_0.492.pth\u001b[39;49m\u001b[38;5;124;43m'\u001b[39;49m\u001b[43m,\u001b[49m\n\u001b[1;32m     18\u001b[0m \u001b[43m                                          \u001b[49m\u001b[43mnum_classes\u001b[49m\u001b[38;5;241;43m=\u001b[39;49m\u001b[38;5;241;43m1000\u001b[39;49m\u001b[43m)\u001b[49m\n\u001b[1;32m     20\u001b[0m \u001b[38;5;28;01mfrom\u001b[39;00m \u001b[38;5;21;01mModels\u001b[39;00m\u001b[38;5;21;01m.\u001b[39;00m\u001b[38;5;21;01mresnet\u001b[39;00m \u001b[38;5;28;01mimport\u001b[39;00m stupid_model_splitter \u001b[38;5;28;01mas\u001b[39;00m stupid_model_splitter3\n\u001b[1;32m     22\u001b[0m client3, server3 \u001b[38;5;241m=\u001b[39m stupid_model_splitter3(weight_path\u001b[38;5;241m=\u001b[39m\u001b[38;5;124m'\u001b[39m\u001b[38;5;124m/afs/cs.pitt.edu/usr0/anp407/Workspace/Adaptfilter/Weights/imagenet/model/2024_06_20_15_46_51/resnet_7_0.577.pth\u001b[39m\u001b[38;5;124m'\u001b[39m)\n",
      "File \u001b[0;32m~/Workspace/Adaptfilter/Models/mobilenetv3.py:499\u001b[0m, in \u001b[0;36mstupid_model_splitter\u001b[0;34m(num_classes, weight_path, device, model_size)\u001b[0m\n\u001b[1;32m    496\u001b[0m \u001b[38;5;28;01melif\u001b[39;00m model_size \u001b[38;5;241m==\u001b[39m \u001b[38;5;124m'\u001b[39m\u001b[38;5;124msmall\u001b[39m\u001b[38;5;124m'\u001b[39m:\n\u001b[1;32m    497\u001b[0m     inverted_residual_setting, last_channel \u001b[38;5;241m=\u001b[39m _mobilenet_v3_conf(\u001b[38;5;124m\"\u001b[39m\u001b[38;5;124mmobilenet_v3_small\u001b[39m\u001b[38;5;124m\"\u001b[39m, num_classes \u001b[38;5;241m=\u001b[39m num_classes)\n\u001b[0;32m--> 499\u001b[0m client_model \u001b[38;5;241m=\u001b[39m MobileNetV3_client(\u001b[43minverted_residual_setting\u001b[49m, last_channel)\n\u001b[1;32m    500\u001b[0m \u001b[38;5;28;01mif\u001b[39;00m weight_path \u001b[38;5;241m!=\u001b[39m \u001b[38;5;124m'\u001b[39m\u001b[38;5;124m'\u001b[39m:\n\u001b[1;32m    501\u001b[0m     client_weights \u001b[38;5;241m=\u001b[39m torch\u001b[38;5;241m.\u001b[39mload(weight_path, map_location\u001b[38;5;241m=\u001b[39mdevice)\n",
      "\u001b[0;31mUnboundLocalError\u001b[0m: cannot access local variable 'inverted_residual_setting' where it is not associated with a value"
     ]
    }
   ],
   "source": [
    "# load the mobilenet V2, V3 and resnet \n",
    "# check the zeros in them\n",
    "\n",
    "import torch\n",
    "import torch.nn as nn\n",
    "import torch.nn.functional as F\n",
    "\n",
    "from Models.mobilenetv2_original import stupid_model_splitter\n",
    "\n",
    "client, server = stupid_model_splitter(weight_path='/afs/cs.pitt.edu/usr0/anp407/Workspace/Adaptfilter/Weights/imagenet/model/2024_06_20_15_51_21/mobilenetV2_24_0.581.pth', \n",
    "                                       num_classes=1000)\n",
    "\n",
    "from Models.mobilenetv3 import stupid_model_splitter as stupid_model_splitter2, MobileNetV3, _mobilenet_v3_conf\n",
    "# inverted_residual_setting, last_channel = _mobilenet_v3_conf(\"mobilenet_v3_small\", num_classes = 1000)\n",
    "# model = MobileNetV3(inverted_residual_setting, last_channel)\n",
    "# model.load_state_dict(torch.load('/afs/cs.pitt.edu/usr0/anp407/Workspace/Adaptfilter/Weights/imagenet/model/2024_06_20_15_50_09/mobilenetV3_26_0.492.pth'))\n",
    "client2, server2 = stupid_model_splitter2(model_size='small', weight_path='/afs/cs.pitt.edu/usr0/anp407/Workspace/Adaptfilter/Weights/imagenet/model/2024_06_20_15_50_09/mobilenetV3_26_0.492.pth',\n",
    "                                          num_classes=1000)\n",
    "\n",
    "from Models.resnet import stupid_model_splitter as stupid_model_splitter3\n",
    "\n",
    "client3, server3 = stupid_model_splitter3(weight_path='/afs/cs.pitt.edu/usr0/anp407/Workspace/Adaptfilter/Weights/imagenet/model/2024_06_20_15_46_51/resnet_7_0.577.pth')\n",
    "\n"
   ]
  },
  {
   "cell_type": "code",
   "execution_count": null,
   "metadata": {},
   "outputs": [],
   "source": []
  }
 ],
 "metadata": {
  "kernelspec": {
   "display_name": "py312",
   "language": "python",
   "name": "python3"
  },
  "language_info": {
   "codemirror_mode": {
    "name": "ipython",
    "version": 3
   },
   "file_extension": ".py",
   "mimetype": "text/x-python",
   "name": "python",
   "nbconvert_exporter": "python",
   "pygments_lexer": "ipython3",
   "version": "3.12.0"
  }
 },
 "nbformat": 4,
 "nbformat_minor": 2
}
