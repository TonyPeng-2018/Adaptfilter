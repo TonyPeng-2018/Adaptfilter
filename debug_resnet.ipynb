{
 "cells": [
  {
   "cell_type": "code",
   "execution_count": 1,
   "metadata": {},
   "outputs": [
    {
     "ename": "RuntimeError",
     "evalue": "Error(s) in loading state_dict for resnet50_client:\n\tsize mismatch for conv1.weight: copying a param with shape torch.Size([64, 3, 3, 3]) from checkpoint, the shape in current model is torch.Size([64, 3, 7, 7]).",
     "output_type": "error",
     "traceback": [
      "\u001b[0;31m---------------------------------------------------------------------------\u001b[0m",
      "\u001b[0;31mRuntimeError\u001b[0m                              Traceback (most recent call last)",
      "Cell \u001b[0;32mIn[1], line 5\u001b[0m\n\u001b[1;32m      3\u001b[0m \u001b[38;5;28;01mfrom\u001b[39;00m \u001b[38;5;21;01mModels\u001b[39;00m \u001b[38;5;28;01mimport\u001b[39;00m resnet\n\u001b[1;32m      4\u001b[0m weightpath \u001b[38;5;241m=\u001b[39m \u001b[38;5;124m'\u001b[39m\u001b[38;5;124m/home/tonypeng/Workspace1/adaptfilter/Adaptfilter/Weights/cifar-10/model/ResNet50.pth\u001b[39m\u001b[38;5;124m'\u001b[39m\n\u001b[0;32m----> 5\u001b[0m client, server \u001b[38;5;241m=\u001b[39m \u001b[43mresnet\u001b[49m\u001b[38;5;241;43m.\u001b[39;49m\u001b[43mstupid_model_splitter\u001b[49m\u001b[43m(\u001b[49m\u001b[43mweight_path\u001b[49m\u001b[38;5;241;43m=\u001b[39;49m\u001b[43m \u001b[49m\u001b[43mweightpath\u001b[49m\u001b[43m,\u001b[49m\u001b[43m \u001b[49m\u001b[43mnum_classes\u001b[49m\u001b[38;5;241;43m=\u001b[39;49m\u001b[38;5;241;43m10\u001b[39;49m\u001b[43m,\u001b[49m\u001b[43m \u001b[49m\u001b[43mdevice\u001b[49m\u001b[43m \u001b[49m\u001b[38;5;241;43m=\u001b[39;49m\u001b[43m \u001b[49m\u001b[38;5;124;43m'\u001b[39;49m\u001b[38;5;124;43mcuda:0\u001b[39;49m\u001b[38;5;124;43m'\u001b[39;49m\u001b[43m)\u001b[49m\n\u001b[1;32m      7\u001b[0m \u001b[38;5;28;01mfrom\u001b[39;00m \u001b[38;5;21;01mModels\u001b[39;00m \u001b[38;5;28;01mimport\u001b[39;00m mobilenetv2\n\u001b[1;32m      8\u001b[0m weightpath2 \u001b[38;5;241m=\u001b[39m \u001b[38;5;124m'\u001b[39m\u001b[38;5;124m/home/tonypeng/Workspace1/adaptfilter/Adaptfilter/Weights/cifar-10/model/MobileNetV2.pth\u001b[39m\u001b[38;5;124m'\u001b[39m\n",
      "File \u001b[0;32m~/Workspace1/adaptfilter/Adaptfilter/Models/resnet.py:436\u001b[0m, in \u001b[0;36mstupid_model_splitter\u001b[0;34m(num_classes, weight_path, device)\u001b[0m\n\u001b[1;32m    434\u001b[0m     client_model_keys \u001b[38;5;241m=\u001b[39m client_model\u001b[38;5;241m.\u001b[39mstate_dict()\u001b[38;5;241m.\u001b[39mkeys()\n\u001b[1;32m    435\u001b[0m     client_weights \u001b[38;5;241m=\u001b[39m {k: v \u001b[38;5;28;01mfor\u001b[39;00m k, v \u001b[38;5;129;01min\u001b[39;00m client_weights\u001b[38;5;241m.\u001b[39mitems() \u001b[38;5;28;01mif\u001b[39;00m k \u001b[38;5;129;01min\u001b[39;00m client_model_keys}\n\u001b[0;32m--> 436\u001b[0m     \u001b[43mclient_model\u001b[49m\u001b[38;5;241;43m.\u001b[39;49m\u001b[43mload_state_dict\u001b[49m\u001b[43m(\u001b[49m\u001b[43mclient_weights\u001b[49m\u001b[43m)\u001b[49m\n\u001b[1;32m    438\u001b[0m     \u001b[38;5;66;03m# create server, load the weights and filter the client\u001b[39;00m\n\u001b[1;32m    439\u001b[0m server_model \u001b[38;5;241m=\u001b[39m resnet50_server(block \u001b[38;5;241m=\u001b[39m Bottleneck, layers \u001b[38;5;241m=\u001b[39mlayers, num_classes \u001b[38;5;241m=\u001b[39m num_classes)\n",
      "File \u001b[0;32m~/anaconda3/envs/iot/lib/python3.12/site-packages/torch/nn/modules/module.py:2189\u001b[0m, in \u001b[0;36mModule.load_state_dict\u001b[0;34m(self, state_dict, strict, assign)\u001b[0m\n\u001b[1;32m   2184\u001b[0m         error_msgs\u001b[38;5;241m.\u001b[39minsert(\n\u001b[1;32m   2185\u001b[0m             \u001b[38;5;241m0\u001b[39m, \u001b[38;5;124m'\u001b[39m\u001b[38;5;124mMissing key(s) in state_dict: \u001b[39m\u001b[38;5;132;01m{}\u001b[39;00m\u001b[38;5;124m. \u001b[39m\u001b[38;5;124m'\u001b[39m\u001b[38;5;241m.\u001b[39mformat(\n\u001b[1;32m   2186\u001b[0m                 \u001b[38;5;124m'\u001b[39m\u001b[38;5;124m, \u001b[39m\u001b[38;5;124m'\u001b[39m\u001b[38;5;241m.\u001b[39mjoin(\u001b[38;5;124mf\u001b[39m\u001b[38;5;124m'\u001b[39m\u001b[38;5;124m\"\u001b[39m\u001b[38;5;132;01m{\u001b[39;00mk\u001b[38;5;132;01m}\u001b[39;00m\u001b[38;5;124m\"\u001b[39m\u001b[38;5;124m'\u001b[39m \u001b[38;5;28;01mfor\u001b[39;00m k \u001b[38;5;129;01min\u001b[39;00m missing_keys)))\n\u001b[1;32m   2188\u001b[0m \u001b[38;5;28;01mif\u001b[39;00m \u001b[38;5;28mlen\u001b[39m(error_msgs) \u001b[38;5;241m>\u001b[39m \u001b[38;5;241m0\u001b[39m:\n\u001b[0;32m-> 2189\u001b[0m     \u001b[38;5;28;01mraise\u001b[39;00m \u001b[38;5;167;01mRuntimeError\u001b[39;00m(\u001b[38;5;124m'\u001b[39m\u001b[38;5;124mError(s) in loading state_dict for \u001b[39m\u001b[38;5;132;01m{}\u001b[39;00m\u001b[38;5;124m:\u001b[39m\u001b[38;5;130;01m\\n\u001b[39;00m\u001b[38;5;130;01m\\t\u001b[39;00m\u001b[38;5;132;01m{}\u001b[39;00m\u001b[38;5;124m'\u001b[39m\u001b[38;5;241m.\u001b[39mformat(\n\u001b[1;32m   2190\u001b[0m                        \u001b[38;5;28mself\u001b[39m\u001b[38;5;241m.\u001b[39m\u001b[38;5;18m__class__\u001b[39m\u001b[38;5;241m.\u001b[39m\u001b[38;5;18m__name__\u001b[39m, \u001b[38;5;124m\"\u001b[39m\u001b[38;5;130;01m\\n\u001b[39;00m\u001b[38;5;130;01m\\t\u001b[39;00m\u001b[38;5;124m\"\u001b[39m\u001b[38;5;241m.\u001b[39mjoin(error_msgs)))\n\u001b[1;32m   2191\u001b[0m \u001b[38;5;28;01mreturn\u001b[39;00m _IncompatibleKeys(missing_keys, unexpected_keys)\n",
      "\u001b[0;31mRuntimeError\u001b[0m: Error(s) in loading state_dict for resnet50_client:\n\tsize mismatch for conv1.weight: copying a param with shape torch.Size([64, 3, 3, 3]) from checkpoint, the shape in current model is torch.Size([64, 3, 7, 7])."
     ]
    },
    {
     "ename": "",
     "evalue": "",
     "output_type": "error",
     "traceback": [
      "\u001b[1;31mThe Kernel crashed while executing code in the current cell or a previous cell. \n",
      "\u001b[1;31mPlease review the code in the cell(s) to identify a possible cause of the failure. \n",
      "\u001b[1;31mClick <a href='https://aka.ms/vscodeJupyterKernelCrash'>here</a> for more info. \n",
      "\u001b[1;31mView Jupyter <a href='command:jupyter.viewOutput'>log</a> for further details."
     ]
    }
   ],
   "source": [
    "# get the client and server from resnet\n",
    "\n",
    "from Models import resnet\n",
    "weightpath = '/home/tonypeng/Workspace1/adaptfilter/Adaptfilter/Weights/cifar-10/model/ResNet50.pth'\n",
    "client, server = resnet.stupid_model_splitter(weight_path= weightpath, num_classes=10, device = 'cuda:0')\n",
    "\n",
    "from Models import mobilenetv2\n",
    "weightpath2 = '/home/tonypeng/Workspace1/adaptfilter/Adaptfilter/Weights/cifar-10/model/MobileNetV2.pth'\n",
    "client2, server2 = mobilenetv2.stupid_model_splitter(weight_path= weightpath2, num_classes=10, device = 'cuda:0')\n",
    "\n",
    "from Dataloaders import dataloader_cifar10\n",
    "train, test, classes = dataloader_cifar10.Dataloader_cifar10(train_batch=128, test_batch=100, seed=2024)\n",
    "\n",
    "# get the result of \n",
    "client.eval()\n",
    "client2.eval()\n",
    "server.eval()\n",
    "server2.eval()\n",
    "\n",
    "client.to('cuda') \n",
    "client2.to('cuda')\n",
    "server.to('cuda')\n",
    "server2.to('cuda')\n",
    "\n",
    "import torch\n",
    "with torch.no_grad():\n",
    "    for batch_idx, (inputs, targets) in enumerate(train):\n",
    "        inputs, targets = inputs.to('cuda'), targets.to('cuda')\n",
    "        outputs = client(inputs)\n",
    "        outputs2 = client2(inputs)\n",
    "        outputs3 = server(inputs)\n",
    "        outputs4 = server2(inputs)\n",
    "        if batch_idx == 0:\n",
    "            break\n",
    "    outputs3 = torch.max(outputs3, dim=1)[1]\n",
    "    outputs4 = torch.max(outputs4, dim=1)[1]\n",
    "\n",
    "    outputs3 = targets.eq(outputs3).sum().item()\n",
    "    outputs4 = targets.eq(outputs4).sum().item()\n",
    "\n",
    "    print('client1:', outputs)\n",
    "    print('client2:', outputs2)\n",
    "\n",
    "    outputs = torch.where(outputs == 0, 1, 0).sum().item()\n",
    "    outputs2 = torch.where(outputs2 == 0, 1, 0).sum().item()\n",
    "\n",
    "    print('client1:', outputs)\n",
    "    print('client2:', outputs2)\n",
    "\n",
    "    print('server1:', outputs3)\n",
    "    print('server2:', outputs4)\n",
    "\n",
    "    "
   ]
  }
 ],
 "metadata": {
  "kernelspec": {
   "display_name": "iot",
   "language": "python",
   "name": "python3"
  },
  "language_info": {
   "codemirror_mode": {
    "name": "ipython",
    "version": 3
   },
   "file_extension": ".py",
   "mimetype": "text/x-python",
   "name": "python",
   "nbconvert_exporter": "python",
   "pygments_lexer": "ipython3",
   "version": "3.12.3"
  }
 },
 "nbformat": 4,
 "nbformat_minor": 2
}
