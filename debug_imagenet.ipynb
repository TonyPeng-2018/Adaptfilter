{
 "cells": [
  {
   "cell_type": "code",
   "execution_count": 6,
   "metadata": {},
   "outputs": [
    {
     "name": "stdout",
     "output_type": "stream",
     "text": [
      "0 n01440764\n"
     ]
    },
    {
     "ename": "SystemExit",
     "evalue": "",
     "output_type": "error",
     "traceback": [
      "An exception has occurred, use %tb to see the full traceback.\n",
      "\u001b[0;31mSystemExit\u001b[0m\n"
     ]
    },
    {
     "name": "stderr",
     "output_type": "stream",
     "text": [
      "/afs/cs.pitt.edu/usr0/anp407/miniconda3/envs/py312/lib/python3.12/site-packages/IPython/core/interactiveshell.py:3585: UserWarning: To exit: use 'exit', 'quit', or Ctrl-D.\n",
      "  warn(\"To exit: use 'exit', 'quit', or Ctrl-D.\", stacklevel=1)\n"
     ]
    }
   ],
   "source": [
    "import os\n",
    "from torch.utils.data import Dataset\n",
    "from PIL import Image\n",
    "import json\n",
    "import sys\n",
    "class ImageNetKaggle(Dataset):\n",
    "    def __init__(self, root, split, transform=None):\n",
    "        self.samples = []\n",
    "        self.targets = []\n",
    "        self.transform = transform\n",
    "        self.syn_to_class = {}\n",
    "        # make a dict\n",
    "        with open(os.path.join(root, \"imagenet_class_index.json\"), \"rb\") as f:\n",
    "                    json_file = json.load(f) # ind,name of file, label(word)\n",
    "                    for class_id, v in json_file.items():# 0 n01440764\n",
    "                        self.syn_to_class[v[0]] = int(class_id)\n",
    "                    \n",
    "        with open(os.path.join(root, \"ILSVRC2012_val_labels.json\"), \"rb\") as f:\n",
    "                    self.val_to_syn = json.load(f)\n",
    "        samples_dir = os.path.join(root, \"ILSVRC/Data/CLS-LOC\", split)\n",
    "        for entry in os.listdir(samples_dir):\n",
    "            if split == \"train\":\n",
    "                syn_id = entry\n",
    "                target = self.syn_to_class[syn_id]\n",
    "                syn_folder = os.path.join(samples_dir, syn_id)\n",
    "                for sample in os.listdir(syn_folder):\n",
    "                    sample_path = os.path.join(syn_folder, sample)\n",
    "                    self.samples.append(sample_path)\n",
    "                    self.targets.append(target)\n",
    "            elif split == \"val\":\n",
    "                syn_id = self.val_to_syn[entry]\n",
    "                target = self.syn_to_class[syn_id]\n",
    "                sample_path = os.path.join(samples_dir, entry)\n",
    "                self.samples.append(sample_path)\n",
    "                self.targets.append(target)\n",
    "    def __len__(self):\n",
    "            return len(self.samples)\n",
    "    def __getitem__(self, idx):\n",
    "            x = Image.open(self.samples[idx]).convert(\"RGB\")\n",
    "            if self.transform:\n",
    "                x = self.transform(x)\n",
    "            return x, self.targets[idx]\n",
    "dataset = ImageNetKaggle('/data/anp407/imagenet', \"val\", val_transform)"
   ]
  },
  {
   "cell_type": "code",
   "execution_count": 4,
   "metadata": {},
   "outputs": [
    {
     "name": "stderr",
     "output_type": "stream",
     "text": [
      "0it [00:00, ?it/s]\n"
     ]
    },
    {
     "ename": "ZeroDivisionError",
     "evalue": "division by zero",
     "output_type": "error",
     "traceback": [
      "\u001b[0;31m---------------------------------------------------------------------------\u001b[0m",
      "\u001b[0;31mZeroDivisionError\u001b[0m                         Traceback (most recent call last)",
      "Cell \u001b[0;32mIn[4], line 34\u001b[0m\n\u001b[1;32m     32\u001b[0m         correct \u001b[38;5;241m+\u001b[39m\u001b[38;5;241m=\u001b[39m (y_pred\u001b[38;5;241m.\u001b[39margmax(axis\u001b[38;5;241m=\u001b[39m\u001b[38;5;241m1\u001b[39m) \u001b[38;5;241m==\u001b[39m y\u001b[38;5;241m.\u001b[39mcuda())\u001b[38;5;241m.\u001b[39msum()\u001b[38;5;241m.\u001b[39mitem()\n\u001b[1;32m     33\u001b[0m         total \u001b[38;5;241m+\u001b[39m\u001b[38;5;241m=\u001b[39m \u001b[38;5;28mlen\u001b[39m(y)\n\u001b[0;32m---> 34\u001b[0m \u001b[38;5;28mprint\u001b[39m(\u001b[43mcorrect\u001b[49m\u001b[43m \u001b[49m\u001b[38;5;241;43m/\u001b[39;49m\u001b[43m \u001b[49m\u001b[43mtotal\u001b[49m)\n",
      "\u001b[0;31mZeroDivisionError\u001b[0m: division by zero"
     ]
    }
   ],
   "source": [
    "from torch.utils.data import DataLoader\n",
    "from torchvision import transforms\n",
    "import torch\n",
    "import torchvision\n",
    "from tqdm import tqdm\n",
    "model = torchvision.models.resnet50(weights=\"DEFAULT\")\n",
    "model.eval().cuda()  # Needs CUDA, don't bother on CPUs\n",
    "mean = (0.485, 0.456, 0.406)\n",
    "std = (0.229, 0.224, 0.225)\n",
    "val_transform = transforms.Compose(\n",
    "            [\n",
    "                transforms.Resize(256),\n",
    "                transforms.CenterCrop(224),\n",
    "                transforms.ToTensor(),\n",
    "                transforms.Normalize(mean, std),\n",
    "            ]\n",
    "        )\n",
    "dataset = ImageNetKaggle('/data/anp407/imagenet', \"test\", val_transform)\n",
    "dataloader = DataLoader(\n",
    "            dataset,\n",
    "            batch_size=64, # may need to reduce this depending on your GPU \n",
    "            num_workers=8, # may need to reduce this depending on your num of CPUs and RAM\n",
    "            shuffle=False,\n",
    "            drop_last=False,\n",
    "            pin_memory=True\n",
    "        )\n",
    "correct = 0\n",
    "total = 0\n",
    "with torch.no_grad():\n",
    "    for x, y in tqdm(dataloader):\n",
    "        y_pred = model(x.cuda())\n",
    "        correct += (y_pred.argmax(axis=1) == y.cuda()).sum().item()\n",
    "        total += len(y)\n",
    "print(correct / total)"
   ]
  }
 ],
 "metadata": {
  "kernelspec": {
   "display_name": "py312",
   "language": "python",
   "name": "python3"
  },
  "language_info": {
   "codemirror_mode": {
    "name": "ipython",
    "version": 3
   },
   "file_extension": ".py",
   "mimetype": "text/x-python",
   "name": "python",
   "nbconvert_exporter": "python",
   "pygments_lexer": "ipython3",
   "version": "3.12.0"
  }
 },
 "nbformat": 4,
 "nbformat_minor": 2
}
